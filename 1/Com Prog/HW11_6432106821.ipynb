{
  "nbformat": 4,
  "nbformat_minor": 0,
  "metadata": {
    "colab": {
      "name": "HW11_TSD for Databases.ipynb",
      "provenance": [],
      "collapsed_sections": []
    },
    "kernelspec": {
      "name": "python3",
      "display_name": "Python 3"
    },
    "language_info": {
      "name": "python"
    }
  },
  "cells": [
    {
      "cell_type": "markdown",
      "source": [
        "# 2110101: การบ้านครั้งที่ 11: เรื่อง TSD for Databases\n",
        "\n",
        "ให้นิสิตเขียนฟังก์ชันเพื่อทำงานตามกำหนด **เงื่อนไขค่อนข้างซับซ้อน ให้นิสิตดูตัวอย่างประกอบจะเข้าใจได้ง่ายขึ้น**"
      ],
      "metadata": {
        "id": "pw5Udn3kfoWd"
      }
    },
    {
      "cell_type": "markdown",
      "source": [
        "## Convert to dict\n",
        "\n",
        "ให้เขียนฟังก์ชัน `convert_to_dict(data,column_name)` \n",
        "*   รับข้อมูลเป็นลิสต์ของ tuple ผ่านตัวแปร `data` และรับชื่อคอลัมน์เป็น list ของข้อความผ่านตัวแปร `column_name` \n",
        "*   คืนค่าเป็นลิสต์ของ dict โดยแปลง tuple แต่ละอันให้เป็น dict ตามข้อกำหนดดังนี้\n",
        " * เรียงลำดับก่อนหลังตามลำดับที่ปรากฏในตัวแปร `data` \n",
        " * ใส่ค่าตามลำดับที่ปรากฏใน tuple ให้เป็น value ของ key ตามลำดับที่ปรากฏใน column_name \n",
        " * หากค่าใน tuple ตรงตำแหน่งใดมีค่าเป็น None ให้ข้าม key ตามชื่อคอลัมน์นั้นไปด้วย\n",
        " * หากใน tuple ที่มีค่าเป็น None ทั้งหมด ไม่ต้องใส่ tuple นั้นเข้าไปในผลลัพธ์\n",
        "\n",
        "* ตัวอย่างเช่น \n",
        "\n",
        "| อินพุต | คืนค่า | หมายเหตุ |\n",
        "| --- | --- | --- |\n",
        "| `convert_to_dict([(1,2,3,4)],['A','B','C','D'])` | `[{'A': 1, 'B': 2, 'C': 3, 'D': 4}]` | |\n",
        "| `convert_to_dict([(1,2,None,4)],['A','B','C','D'])` | `[{'A': 1, 'B': 2, 'D': 4}]` | key `'C'` มีค่าเป็น `None` ไม่ใส่ลงในผลลัพธ์ |\n",
        "| `convert_to_dict([(1,2,3,4),(1,2,None,4),(None,None,3,4)],`<br>`['A','B','C','D'])` | `[{'A': 1, 'B': 2, 'C': 3, 'D': 4}, {'A': 1, 'B': 2, 'D': 4},`<br>` {'C': 3, 'D': 4}]` | ค่าที่ตรงกับ key มีค่าเป็น `None` ไม่ใส่ลงในผลลัพธ์\n",
        "| `convert_to_dict([(1,2,3,4),(1,2,None,4),(None,None,None,None)],`<br>`['A','B','C','D'])` | `[{'A': 1, 'B': 2, 'C': 3, 'D': 4}, {'A': 1, 'B': 2, 'D': 4}]` | ข้อมูลชุดสุดท้ายมีค่าเป็น None ทั้งหมด ไม่ใส่ข้อมูลชุดนี้ลงในผลลัพธ์\n",
        "\n"
      ],
      "metadata": {
        "id": "RIX8c_e6d1vw"
      }
    },
    {
      "cell_type": "markdown",
      "source": [
        "## Convert to dict with key\n",
        "\n",
        "ให้เขียนฟังก์ชัน `convert_to_dict_with_key(data,column_name,key)` \n",
        "*   อินพุตเหมือนฟังก์ชันก่อนหน้า แต่มีตัวแปร key  \n",
        "*   คืนค่าเป็น dict โดยแปลง tuple แต่ละอันให้เป็น dict เก็บเป็น value คู่กับค่าจากคอลัมน์ key ข้อกำหนดดังนี้\n",
        " * ใส่ค่าจาก tuple ให้เป็น value ของ key ตามลำดับที่ปรากฏใน column_name แยกค่าที่ตรงกับตัวแปร key ให้เป็นค่า key ของ dict และค่าที่เหลือให้เป็น value ที่จับคู่กับค่า key นั้น (ดูตามตัวอย่าง)\n",
        " * ค่า key ที่รับเข้ามามีอยู่ใน column_name แน่ ๆ \n",
        " * หากค่าใน tuple ตรงตำแหน่งใดมีค่าเป็น None ให้ข้าม key ตามชื่อคอลัมน์นั้นไปด้วย \n",
        " * หากใน tuple ค่าที่ตรงกับตำแหน่งของ key เป็น None ไม่ต้องใส่ tuple นั้นเข้าไปในผลลัพธ์\n",
        " * หากในผลลัพธ์มีค่านั้นเป็น key อยู่แล้ว ไม่ต้องใส่ tuple นั้นในผลลัพธ์อีก \n",
        " * หากใน tuple ที่มีค่าที่ต้องใส่เป็น None ทั้งหมด ไม่ต้องใส่ tuple นั้นเข้าไปในผลลัพธ์ (ค่า key ไม่เป็น None แต่ค่าอื่นเป็น None) \n",
        "\n",
        "* ตัวอย่างเช่น \n",
        "\n",
        "| อินพุต | คืนค่า | หมายเหตุ |\n",
        "| --- | --- | --- |\n",
        "| `convert_to_dict_with_key([(1,2,3,4),(5,6,7,8)],['A','B','C','D'],'A')` | `{1: {'B': 2, 'C': 3, 'D': 4}, 5: {'B': 6, 'C': 7, 'D': 8}}` | ให้ค่า key เป็น `'A'`\n",
        "| `convert_to_dict_with_key([(1,2,3,4),(5,6,7,8)],['A','B','C','D'],'B')` | `{2: {'A': 1, 'C': 3, 'D': 4}, 6: {'A': 5, 'C': 7, 'D': 8}}` | ให้ค่า key เป็น `'B'`\n",
        "| `convert_to_dict_with_key([(1,None,3,4),(5,6,7,8)],['A','B','C','D'],'B')` | `{6: {'A': 5, 'C': 7, 'D': 8}}` | ค่าที่ตรงกับคอลัมน์ 'B'<br> ใน tuple อันแรกเป็น None ไม่ใส่ tuple นี้ลงในผลลัพธ์\n",
        "| `convert_to_dict_with_key([(1,2,3,4),(5,2,7,8)],['A','B','C','D'],'B')` | `{2: {'A': 1, 'C': 3, 'D': 4}` | ค่า key ซ้ำกัน \n",
        "| `convert_to_dict_with_key([(1,2,3,4),(None,6,None,None)],['A','B','C','D'],'B')` | `{2: {'A': 1, 'C': 3, 'D': 4}` | ค่าอื่นเป็น None ทั้งหมด\n"
      ],
      "metadata": {
        "id": "ScurpURMkPej"
      }
    },
    {
      "cell_type": "markdown",
      "source": [
        "## Join data\n",
        "\n",
        "ให้เขียนฟังก์ชัน `join_data(data1,data2)` \n",
        "*   `data1` และ `data2` เป็น dict ที่คืนมาจากฟังก์ชัน `convert_to_dict_with_key`  \n",
        "*   คืนค่าเป็น dict ที่\n",
        " * มีค่า key ใน **ทั้ง `data1` และ `data2`**\n",
        " * ค่า value ของแต่ละ key คือค่า key:value ที่มาจาก `data1` และ `data2` โดยหากใน `data2` มีค่า key ซ้ำกับ `data1` ให้เติม `_1` ต่อท้ายใน key \n",
        " * ถ้าไม่มีค่า key ใน `data1` และ `data2` ซ้ำกันเลย ให้คืน dict ว่าง\n",
        "\n",
        "* ตัวอย่างเช่น \n",
        "\n",
        "| data1 | data2 | ผลลัพธ์ | หมายเหตุ |\n",
        "| --- | --- | --- | --- |\n",
        "| `{1: {'B': 2, 'C': 3}, 5: {'B': 6, 'C': 7}}` | `{1: {'A': 1, 'E': 5}, 5: {'E': 8}, 6: {'C': 2}}` | `{1: {'A': 1, 'B': 2, 'C': 3, 'E': 5},`<br>` 5: {'B': 6, 'C': 7, 'E': 8}}` | รวมข้อมูลของ key `1` จาก `data1` และ `data2` โดยไม่มี key ซ้ำ\n",
        "| `{1: {'B': 2, 'C': 3}, 5: {'B': 6, 'C': 7}}` | `{1: {'A': 1, 'E': 5}, 5: {'B': 8}, 6: {'C': 2}}` | `{1: {'A': 1, 'B': 2, 'C': 3, 'E': 5},`<br>` 5: {'B': 6, 'B_1': 8, 'C': 7}}` | key `'B'` ซ้ำกันเปลี่ยนชื่อจาก data2 เป็น `'B_1'`\n",
        "| `{1: {'B': 2, 'C': 3}, 5: {'B': 6, 'C': 7}}` | `{2: {'A': 1, 'E': 5}, 3: {'B': 8}, 6: {'C': 2}}` | `{}` | key ไม่ซ้ำ คืน dict ว่าง\n"
      ],
      "metadata": {
        "id": "Uco0GDEMppA3"
      }
    },
    {
      "cell_type": "markdown",
      "source": [
        "## Merge data\n",
        "\n",
        "ให้เขียนฟังก์ชัน `merge_data(data1,data2)` \n",
        "*   `data1` และ `data2` เป็น dict ที่คืนมาจากฟังก์ชัน `convert_to_dict_with_key`  \n",
        "*   คืนค่าเป็น dict ที่\n",
        " * หากมีค่า key ใน **ทั้ง `data1` และ `data2`** ให้ทำเหมือนฟังก์ชัน `join_data`\n",
        " * ถ้ามีค่า key ใน `data1` แต่ไม่มีใน `data2` หรือมีใน `data2` แต่ไม่มีใน `data1` ให้เพิ่มข้อมูลลงในผลลัพธ์ตามต้นฉบับ \n",
        "\n",
        "* ตัวอย่างเช่น \n",
        "\n",
        "| data1 | data2 | ผลลัพธ์ | หมายเหตุ |\n",
        "| --- | --- | --- | --- |\n",
        "| `{2: {'B': 2, 'C': 3}, 5: {'B': 6, 'C': 7}}` | `{5: {'E': 8}}` | `{2: {'B': 2, 'C': 3}, `<br>`5: {'B': 6, 'C': 7, 'E': 8}}` | รวมข้อมูล `1` และเพิ่ม `6` จาก `data1`\n",
        "| `{1: {'B': 2, 'C': 3}, 5: {'B': 6, 'C': 7}}` | `{1: {'A': 1, 'E': 5}, 5: {'B': 8}, 6: {'C': 2}}` | `{1: {'A': 1, 'B': 2, 'C': 3, 'E': 5},`<br> `5: {'B': 6, 'B_1': 8, 'C': 7},`<br> `6: {'C': 2}}` | รวมข้อมูล `1` กับ `5` และเพิ่ม `6` จาก `data2` \n",
        "| `{1: {'B': 2, 'C': 3}, 5: {'B': 6, 'C': 7}}` | `{2: {'A': 1, 'E': 5}, 3: {'B': 8}, 6: {'C': 2}}` | `{1: {'B': 2, 'C': 3},`<br>`2: {'A': 1, 'E': 5},`<br>`3: {'B': 8},`<br>`5: {'B': 6, 'C': 7},`<br>`6: {'C': 2}}` | key ไม่ซ้ำรวมข้อมูลจาก data1 และ data2\n"
      ],
      "metadata": {
        "id": "4wKJMWjYwFWb"
      }
    },
    {
      "cell_type": "markdown",
      "source": [
        "## Subtract data\n",
        "\n",
        "ให้เขียนฟังก์ชัน `subtract_data(data1,data2)` \n",
        "*   `data1` และ `data2` เป็น dict ที่คืนมาจากฟังก์ชัน `convert_to_dict_with_key`  \n",
        "* คืนค่าเป็น dict ที่\n",
        " * หาก key ใน `data1` ปรากฏใน `data2` ให้ลบทุก key ที่ `data1[key].keys()` ปรากฏใน `data2[key].keys()`\n",
        " * ถ้าผลลัพธ์จากข้อด้านบนทำให้ `data1[key].keys()` กลายเป็นเซตว่าง ไม่ต้องเพิ่ม key นี้เข้าไปในผลลัพธ์\n",
        " * สำหรับ key ใดที่ปรากฏใน `data1` แต่ไม่ปรากฏใน `data2` ให้เติมค่าของ key นี้จาก `data1` ลงในผลลัพธ์\n",
        " * ถ้าผลลัพธ์ไม่เหลือข้อมูลเลย ให้คืน dict ว่าง \n",
        "\n",
        "* ตัวอย่างเช่น \n",
        "\n",
        "| data1 | data2 | ผลลัพธ์ | หมายเหตุ |\n",
        "| --- | --- | --- | --- |\n",
        "| `{2: {'B': 2, 'C': 3}, 5: {'B': 6, 'C': 7}}` | `{2: {'B': 8}}` | `{2: {'C': 3}, 5: {'B': 6, 'C': 7}}` | `2` อยู่ใน `data1` และ `data2` และมี `'B'` อยู่ใน `data1[2]`  \n",
        "| `{2: {'B': 2, 'C': 3}, 5: {'B': 6, 'C': 7}}` | `{2: {'D': 8}}` | `{2: {'B': 2, 'C': 3}, 5: {'B': 6, 'C': 7}}` | `2` อยู่ใน `data1` และ `data2` แต่ไม่มี key ใน `data1[2]` ที่อยู่ใน `data2[2]` \n",
        "| `{2: {'B': 2, 'C': 3}, 5: {'B': 6, 'C': 7}}` | `{2: {'B': 8, 'C': 6, 'D': 0}}` | `{5: {'B': 6, 'C': 7}}` | ทุก key ใน `data1[2]` ปรากฏใน `data2[2]`\n",
        "| `{2: {'B': 2, 'C': 3}, 5: {'B': 6, 'C': 7}}` | `{2: {'B': 8, 'C': 6, 'D': 0}, 5: {'B': 6, 'C': 7}}` | `{}` | ไม่เหลือ `data1` เลย "
      ],
      "metadata": {
        "id": "4XvH6PJIzkWw"
      }
    },
    {
      "cell_type": "markdown",
      "source": [
        "## งานของนิสิต\n",
        "\n",
        "\n",
        "จงเขียนฟังก์ชัน `convert_to_dict`, `convert_to_dict_with_key`, `join_data`, `merge_data` และ `subtract_data` ใน cell ข้างล่างนี้\n",
        "\n",
        "### การส่งงาน\n",
        "  * Save a copy in Drive \n",
        "  * เปลี่ยนชื่อ Notebook ให้เป็น HW11_xxxxxxxxxx.ipynb โดย xxxxxxxxxx เป็นเลขประจำตัวนิสิต \n",
        "  * File -> Download -> Download .ipynb\n",
        "  * ส่งไฟล์ที่ดาวน์โหลดได้ใน MyCourseVille ก่อนเวลา 23:59 น. วันที่ 13 เมษายน 2565 \n",
        "  * จะตรวจแฟ้ม .ipynb แฟ้มล่าสุดที่ส่งในระบบ MyCourseVille เท่านั้น\n",
        "\n",
        "<hr>\n",
        "\n",
        "### <font color=red>สำคัญ: อ่านตรงนี้ด้วย</font>\n",
        "- ห้ามเปลี่ยนบรรทัดแรกของ code cell\n",
        "- ห้ามเปลี่ยนบรรทัด def ของฟังก์ชันที่ให้เขียน\n",
        "- นิสิตสามารถเขียนฟังก์ชันเพิ่มได้แต่ให้เขียนภายใน code cell เดียวกันด้านล่างนี้\n",
        "- ฟังก์ชันต้องคืนข้อมูลและประเภทข้อมูลตามที่กำหนดเท่านั้น\n",
        "- ฟังก์ชันต้องไม่ใช้ข้อมูลในตัวแปรใด ๆ นอกฟังก์ชัน\n",
        "- ฟังก์ชันต้องไม่เปลี่ยนแปลงข้อมูลภายในของพารามิเตอร์ที่ได้รับ (หากระบุไว้ในข้อกำหนด)\n",
        "- ส่งแฟ้ม .ipynb กี่ครั้งก็ได้ แต่จะตรวจแฟ้ม .ipynb **แฟ้มล่าสุด** เท่านั้น\n",
        "- โปรแกรมที่ทำงานไม่ได้ เกิด error ก็ไม่ได้คะแนน (แนะนำให้ compile อย่างน้อยหนึ่งครั้งก่อนส่งเพื่อเช็ค error)\n",
        "- ห้าม import อะไรใด ๆ เพิ่ม นอกนั้น อยากใช้คำสั่งอะไร ก็ใช้ได้ ถ้าทำงานได้ใน [Python version 3.7](https://docs.python.org/3.7/)\n",
        "- <font color=red>ส่อทุจริต</font> เช่น\n",
        "  - ส่งโปรแกรมที่ผู้ส่งไม่สามารถอธิบายได้ว่า ใช้หลักการและทำงานอย่างไร\n",
        "  - หรือ ส่งโปรแกรมที่คล้ายกับโปรแกรมของผู้อื่นมาก ๆ (ไม่ว่าจะเป็นผู้ให้หรือผู้รับ จะตั้งใจหรือไม่ก็ตาม)\n",
        "\n",
        "- หากพบว่า งานที่ส่งส่อทุจริต จะได้คะแนน **<font color=red>ติดลบคะแนนรวมสะสมตั้งแต่การบ้านครั้งแรกสุด</font>**\n",
        "\n",
        "\n",
        "\n",
        "\n",
        "\n",
        "\n",
        "\n",
        "\n",
        "\n",
        "\n",
        "\n"
      ],
      "metadata": {
        "id": "DMOqTmm29M_X"
      }
    },
    {
      "cell_type": "code",
      "source": [
        "# HW11_TSD (ไม่ลบหรือแก้ไขบรรทัดนี้ หรือเพิ่มอะไรก่อนบรรทัดนี้ โดยเด็ดขาด)\n",
        "\n",
        "# - เขียนในเซลล์นี้เท่านั้น \n",
        "# - ถ้าต้องการเขียนฟังก์ชันเพิ่ม ก็เขียนในเซลล์นี้\n",
        "\n",
        "def convert_to_dict(data,column_name):\n",
        "  out = []\n",
        "  l = len(column_name)\n",
        "  for data_tup in data:\n",
        "    d = {}\n",
        "    for i in range(l):\n",
        "      if data_tup[i]!=None:\n",
        "        d[column_name[i]] = data_tup[i]\n",
        "    if len(d)>0:\n",
        "      out.append(d)\n",
        "\n",
        "  return out\n",
        "\n",
        "def convert_to_dict_with_key(data,column_name,key):\n",
        "  out = {}\n",
        "  l = len(column_name)\n",
        "  for data_tup in data:\n",
        "    d = {}\n",
        "    for i in range(l):\n",
        "      if data_tup[i]!=None and column_name[i]!=key:\n",
        "        d[column_name[i]] = data_tup[i]\n",
        "      elif column_name[i]==key:\n",
        "        v = data_tup[i]\n",
        "    if v!=None and len(d)>0 and v not in out:\n",
        "      out[v] = d\n",
        "\n",
        "  return out\n",
        "\n",
        "def join_data(data1,data2):\n",
        "  out = {}\n",
        "  for k in data1:\n",
        "    a = data1[k]\n",
        "    if k in data2:\n",
        "      for d in data2[k]: \n",
        "        if d in a:\n",
        "          a[d+'_1'] = data2[k][d]\n",
        "        else:\n",
        "          a[d] = data2[k][d]\n",
        "      out[k] = a\n",
        "\n",
        "  return out\n",
        "\n",
        "def merge_data(data1,data2):\n",
        "  out = data1\n",
        "  for key in data2:\n",
        "    if key not in out:\n",
        "      out[key] = data2[key]\n",
        "    else:\n",
        "      for v in data2[key]:\n",
        "        if v not in out[key]:\n",
        "          out[key][v] = data2[key][v]\n",
        "        else:\n",
        "          out[key][v+'_1'] = data2[key][v]\n",
        "\n",
        "  return out\n",
        "\n",
        "def subtract_data(data1,data2):\n",
        "  out = {}\n",
        "  for key in data1:\n",
        "    if key not in data2:\n",
        "      out[key] = data1[key]\n",
        "    else:\n",
        "      a = {}\n",
        "      for v in data1[key]:\n",
        "        if v not in data2[key]:\n",
        "          a[v] = data1[key][v]\n",
        "      if len(a)>0:\n",
        "        out[key] = a\n",
        "\n",
        "  return out\n"
      ],
      "metadata": {
        "id": "2d3YKvLU5sM-",
        "outputId": "87a360e4-7361-418b-88d0-d2a2587fa37d",
        "colab": {
          "base_uri": "https://localhost:8080/"
        }
      },
      "execution_count": 1,
      "outputs": [
        {
          "output_type": "stream",
          "name": "stdout",
          "text": [
            "Function 1\n",
            "Correct\n",
            "Correct\n",
            "Correct\n",
            "Correct\n",
            "\n",
            "Function 2\n",
            "Correct\n",
            "Correct\n",
            "Correct\n",
            "Correct\n",
            "Correct\n",
            "\n",
            "Function 3\n",
            "Correct\n",
            "Correct\n",
            "Correct\n",
            "\n",
            "Function 4\n",
            "Correct\n",
            "Correct\n",
            "Correct\n",
            "\n",
            "Function 5\n",
            "Correct\n",
            "Correct\n",
            "Correct\n",
            "Correct\n",
            "\n"
          ]
        }
      ]
    }
  ]
}