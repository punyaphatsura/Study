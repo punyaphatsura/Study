{
  "nbformat": 4,
  "nbformat_minor": 0,
  "metadata": {
    "colab": {
      "name": "HW1 Print and Welcome to the World of Python.ipynb",
      "provenance": [],
      "collapsed_sections": []
    },
    "kernelspec": {
      "name": "python3",
      "display_name": "Python 3"
    },
    "language_info": {
      "name": "python"
    }
  },
  "cells": [
    {
      "cell_type": "markdown",
      "source": [
        "# คำสั่ง\n",
        "\n",
        "**วิดีโออธิบายการบ้านอยู่ที่ https://youtu.be/lcTuxcO5zhQ** \n",
        "\n",
        "ให้นิสิตพิมพ์ข้อความออกทางจอภาพด้วยตัวอักษรภาษาอังกฤษ (ตัวพิมพ์เล็ก ตัวพิมพ์ใหญ่) ตัวเลข เครื่องหมายวรรคตอน (เครื่องหมายวรรคตอนทุกเครื่องหมาย ยกเว้นตัวอักษร Tab (\\t) ช่องว่าง และขึ้นบรรทัดใหม่ (\\n)) ตามเงื่อนไขที่ทุกคนจะได้รับเมื่อทำตามคำสั่งตามลำดับต่อไปนี้\n",
        "\n",
        "1. กรอกรหัสนิสิตด้านล่าง ในช่อง student_id\n",
        "2. กดปุ่ม Execute เซลล์\n",
        "3. นิสิตจะเห็นเงื่อนไขสามบรรทัดที่นิสิตต้องทำตาม"
      ],
      "metadata": {
        "id": "7qyuj-QaTndK"
      }
    },
    {
      "cell_type": "code",
      "source": [
        "import random \n",
        "\n",
        "student_id = 6432106821#@param {type:\"integer\"}\n",
        "\n",
        "random.seed(student_id)\n",
        "w=random.randint(40,60)\n",
        "print('จำนวนตัวอักษรในแต่ละบรรทัด {} ตัว'.format(w))\n",
        "print('จำนวนบรรทัด {} บรรทัด'.format(int(w/(random.random()*0.7+1.3))))\n",
        "print('ใช้ตัวอักษรที่แตกต่างกัน {} ตัว'.format(random.randint(10,20)))\n"
      ],
      "metadata": {
        "id": "klQggH4FfTxD",
        "outputId": "8df5e1d8-f17c-45e6-ad7d-dc4b13517ddd",
        "colab": {
          "base_uri": "https://localhost:8080/"
        }
      },
      "execution_count": 3,
      "outputs": [
        {
          "output_type": "stream",
          "name": "stdout",
          "text": [
            "จำนวนตัวอักษรในแต่ละบรรทัด 50 ตัว\n",
            "จำนวนบรรทัด 28 บรรทัด\n",
            "ใช้ตัวอักษรที่แตกต่างกัน 17 ตัว\n"
          ]
        }
      ]
    },
    {
      "cell_type": "markdown",
      "source": [
        "# สิ่งที่นิสิตต้องทำ\n",
        "\n",
        "1. เลือก Menu File->Save a copy in Drive \n",
        "2. ตั้งชื่อ Notebook เป็น HW1_xxxxxxxxxx.ipynb (แทน xxxxxxxxxx ด้วยรหัสนิสิต)\n",
        "3. เขียนโปรแกรมในเซลล์ด้านล่าง \n",
        "4. ทดสอบด้วยการ Execute เซลล์ ด้านล่าง\n",
        "5. เลือก Menu File->Download->Download .ipynb \n",
        "6. นิสิตจะมีไฟล์ HW1_xxxxxxxxx.ipynb ในเครื่องตนเอง \n",
        "7. ส่งไฟล์ในข้อ 6 ใน MyCourseVille ก่อนวันที่ 19 มกราคม 2565 เวลา 23:59 น.\n"
      ],
      "metadata": {
        "id": "5W89i9dHh3Dd"
      }
    },
    {
      "cell_type": "code",
      "source": [
        "# เขียนโปรแกรมในเซลล์นี้เท่านั้น ห้ามแก้ไข/ลบบรรทัดนี้\n",
        "\n",
        "import random\n",
        "\n",
        "char = 'YsbPem428SrkJySB1'\n",
        "print('YsbPem428SrkJySB1YsbPem428SrkJySB1YsbPe428SrkJySB1')\n",
        "\n",
        "for c in range(27):\n",
        "    text = ''\n",
        "    for i in range(50):\n",
        "        text = text + str(random.choice(char))\n",
        "    print(text)\n",
        "\n",
        "\n",
        "\n",
        "\n",
        "\n",
        "\n",
        "\n"
      ],
      "metadata": {
        "id": "7p0cBl6Yeuqu",
        "outputId": "ae149418-7217-49d0-dca3-dfa486749d55",
        "colab": {
          "base_uri": "https://localhost:8080/"
        }
      },
      "execution_count": 14,
      "outputs": [
        {
          "output_type": "stream",
          "name": "stdout",
          "text": [
            "YsbPem428SrkJySB1YsbPem428SrkJySB1YsbPe428SrkJySB1\n",
            "rSb2r2sYSeBJsBmyssSSJ1ysyS18sPy24P2ykye1rkYysYSBrP\n",
            "JrSPyYrYSyrPYbkYYymYBbSSsm2r8BBsS2yJSSyY18mSSJmByJ\n",
            "YYSSSBykrBSBP8J418bYkbeSPr12BeBPSB8rsSebBk4yBySSSP\n",
            "bB2SeYJs4b1seBYsm114kb4Ps8k2e4S1YYs28yekSS1mBYJy28\n",
            "be8syPPy8SJmmmYPs1b1mB1yr2BBBysbSmSS8Sb21BJSmJBYe2\n",
            "k2YSks12rk2m8SYJmsP2mSrYSBkPmeSSB2BekYyrSYYSsSeekS\n",
            "bSBYrPPYe2sJ8m2y44k4SrJSbP4kSyyJ8rSPbbB2yJ1SP8ByY8\n",
            "beYSJySbSP1SYs2ksJPb2s241ySyrsJy4br8meeYre2s1PSBPP\n",
            "bSSb2Pk4eb12SbsbS24emk2BbP1BJ1sSmrJYSbmY4Y2s128SkP\n",
            "SYSBeS18bBbyYbk88SkPSJJ8kJr424B82ky2S1PkB4SsSs8ysB\n",
            "bbSrPSSbkybSYSbB1S2PJb2ybskBY8yrBs4PYrsr2ebmssSem4\n",
            "B2rYYPY2SbS44BkSykJsBeSSSybsSk84rbm48YreerS4kY124m\n",
            "k1SP12eBrJPsYSPSkBBSkbPBr2Sy28SB48PmrembbSS1yYP2ek\n",
            "S1yJPbrP14JYsyJJSSb8BS1rSs8sk1Y1k8mPPJYSP1km8Yr4Jy\n",
            "mJk1SJm824Y8r4syBS2yBS2mBbkre2SrmYY1P42YsyS1k2Bsbe\n",
            "ms2SSYkJm21Sm21Yry1eS82YBbmkmee1Psemb44ykek8ePB1JP\n",
            "ebssb2sJr1Ys4SSbrBSsyBr24J8ryBssebYsPrm8rsem18Je21\n",
            "SP2JPJPmPJP1yssJk14ybBseYrSrSSskmPeYY1BebSkbbrSPb2\n",
            "YyekeeS8bSYSbYmkJy88b1eS88YSkY8SSJ2P4SSmS1421BS2Sm\n",
            "e1P4mb4ysrb4JBS42rsYB1mYYBbJ1JBPm1kYS84brYm881JJ2J\n",
            "bYsP1rJrP8bYSySYm8bbS1mYm1mYmYSBbYskeeyBmBBYeyy442\n",
            "bP2S4J4e8e4SsS2BkJb8eeP2SBSrksmYBbJ88myP2y4YbeBSe1\n",
            "eJkPSPS8Jsr14sBmJJJkPJPkbeBPm4s8yrsk14Y4srYyY8kYm4\n",
            "e22BSms2sbY21224mSbY1JB841mP8Ybr4JS2sS12Ssrs8ssePY\n",
            "Ss2eB4e1Y4k4bSPSssk2JsP8m881k2SmBr8rYJ1emk8mS8e1Sr\n",
            "4YP8B21SBr1yPkbPY2PP8P8esrkSb21kkSy2YmSm8Bk2PB8sSk\n",
            "24e8J4erSS244mk42ebSye4JbYSS4SrJSSrPYksJkYJye2JS8r\n"
          ]
        }
      ]
    },
    {
      "cell_type": "markdown",
      "source": [
        "# ตัวอย่างผลลัพธ์ \n",
        "\n",
        "สมมติว่านิสิตได้รับคำสั่งเป็น \n",
        "\n",
        "จำนวนตัวอักษรในแต่ละบรรทัด 43 ตัว \\\\\n",
        "จำนวนบรรทัด 32 บรรทัด \\\\\n",
        "ใช้ตัวอักษรที่แตกต่างกัน 11 ตัว\n",
        "\n",
        "ผลลัพธ์ของนิสิตจากการเขียนโปรแกรมอาจเป็นดังนี้ \n",
        "\n",
        "```\n",
        "+-----------------------------------------+\n",
        "|l3jlv3jH3lv8\\\\H\\m8v338l8Hlj3H3jv8mvvHllvj|\n",
        "|jlH833lv\\Hl\\m\\l3m8\\H8\\H8j\\8jj33H38mHjllv\\|\n",
        "|8lmlm\\3lHlv838jmvvjv\\383mmHHvljj8j3mmHmlj|\n",
        "|H8l3vjv38jm3vmjj3mmm33mHH3j8lHjHlHv\\lvl3m|\n",
        "|mlHjj3mH\\Hvll\\3l8j\\3lHm388l3H\\v38jl3jj3jH|\n",
        "|Hjll3\\H38lvH3vjHmHjm833vHv83m\\\\lm333\\8jv3|\n",
        "|vjjvjj8H3H8jv3v\\3jHjH8j\\j\\\\lv\\jHH8l8Hvm33|\n",
        "|33v83llmjHmv38lmvm3m3Hmmv8v\\l3mHljv3mjjvj|\n",
        "|\\jjl3\\jljHl3lmlv83\\mllmmlmjmHvml3Hm3lvv\\3|\n",
        "|mv8v3j\\38v8\\H\\lHmj3mmm\\Hv\\j8\\H8jvjljH8mlm|\n",
        "|3\\\\\\j33ml8mvj\\3m8lHjv\\3vl8mvH\\ljvjmHH\\\\3v|\n",
        "|l\\HmHmH8Hl8l8Hjj\\jHlv3l3mlHvv3Hvlv8\\mvHvH|\n",
        "|m\\Hm\\H3mH\\\\3\\m838Hll3H3\\mm8m\\8vHvHm3v\\8lH|\n",
        "|vmljvm\\mjH8lHv\\Hlvj8H3vjvv3\\jlmvj88m8jlm\\|\n",
        "|lljHll33\\3Hm8mH88j3jH38HHHm\\llv3\\8mvml3mv|\n",
        "|vvvm3ll3j\\l8vHmvm\\vjj88vjHvm\\jvvv\\m3\\ljlj|\n",
        "|j33\\3HvmvllvH\\\\vmH8\\jlvlll8m8vlllHjvmvmll|\n",
        "|l3mmjvH\\H388jvjl8Hm\\m38H8j\\8Hl8H\\lmvlv3v\\|\n",
        "|H\\\\mjlj3lv38Hm\\j\\H8\\vj3vvljjj83j388\\8vmH3|\n",
        "|Hl\\jm383Hml8lH\\8j8H3Hm\\38jjjv8Hv88\\3v\\lvH|\n",
        "|mv8v3v\\vj8mvmll8ljlj\\3H3jmvl\\8ljmHmvm8j\\3|\n",
        "|H\\\\8lH3j38j\\3\\ljjmHHmv\\Hv\\ljm38mHHHH3vj3v|\n",
        "|ml8mv\\\\jlH88\\\\33mjHjH8\\3vlllH\\\\j8\\vl3m8v3|\n",
        "|3mH8ll8mlmv8H888l\\l3vvjm\\vHjHm\\jvjmml\\3m8|\n",
        "|lmv33HjHHl\\\\83H8vj\\vv\\8\\m8\\vl3jml3H\\l\\HlH|\n",
        "|jv\\v8m\\88vl\\3vH8\\jlH8HHvm83jljmv\\j\\Hl8Hjj|\n",
        "|3llmmj\\8vmlmj\\H3jv\\vjmll\\j\\\\l\\mlH3ml\\mv3v|\n",
        "|jj8jvmjllHvl8\\\\l3llHl\\jHvjH8l\\m\\mvlH3Hjj\\|\n",
        "|Hjmv38vlmv\\l\\v\\llHm\\v\\l33jHm8l8v8lHvH38Hm|\n",
        "|lHHlmlHlHHvvl8v83mm3l8HHHlH3lHvHjvvj3H3lm|\n",
        "+-----------------------------------------+\n",
        "```\n",
        "\n"
      ],
      "metadata": {
        "id": "8dk6x0uBjIs0"
      }
    },
    {
      "cell_type": "markdown",
      "source": [
        "หรือดังนี้\n",
        "\n",
        "\n",
        "\n",
        "```\n",
        "+-----------------------------------------+\n",
        "|PIIWwUPWOOOOOOUzPUPuPWzwUwzuPUuwIwwWuPwII|\n",
        "|wIwIPUWIOOOOOOIzzzUPuPPzwWWPWPuwPIuPzPzww|\n",
        "|wUPWuwPWzwOOOOOOuzIWIIPwUPWwPUzuUzWuPIuWU|\n",
        "|WUuwzuPPuUOOOOOOWPIWPuUwzuzUzwuWzIIwzWWUu|\n",
        "|IwIwPWIzIPOOOOOOUWUwIPzPwzwIIIzIwUPuwzwUu|\n",
        "|IUPIWPzPzUOOOOOOwzUzuwUzwzwWuWzUzPzuzIIuz|\n",
        "|zwuzPIwIOOOOOOIIPPIIUWUPzzWuWwzzPzPWwwzUz|\n",
        "|IUPzPuUzOOOOOOwWWzzUIWUIwPIUuPUwIzWzuwPWz|\n",
        "|PPwuPWwwOOOOOOuWPPWWWwwUzIwUIuWzUwWIuzzwu|\n",
        "|wIzIwUIuOOOOOOwzuIIUzzUuwWzwWUzPuzuWuPIPW|\n",
        "|IzPzwWuzOOOOOOOOOOOOwwIUuWWwzzIzWWuUUWUzw|\n",
        "|IPwIuUwIuIzuWuOOOOOOzWUPwuuUWuWzUzIzwIuwu|\n",
        "|UuzzuUWIzIPWPUOOOOOOzwzIIzzUIwWPUwzwWuuPW|\n",
        "|wWIWUWzIIIwUIzOOOOOOIUUwPUzPUIIuUPzPUWuzz|\n",
        "|PWWWwuUIuPIPuPOOOOOOOOOOOOOPzIzIIIUPzPwIP|\n",
        "|wIPPwwzuPwWPuWPIIuIUOOOOOOzwPUWuwWwwIUuuI|\n",
        "|uwPuPWIwwwPzuwuUUUUUOOOOOOzwPzWIUWuPwuUuU|\n",
        "|WwuzzIwwwUIPUwIuPIuIOOOOOOIzWzzPwuUIWIWUw|\n",
        "|uuuIIWPIUIUzzzPPWUuuOOOOOOuzPWIuWwPUwWuzw|\n",
        "|PIIWIuPUPIUUwwPPIIWuOOOOOOOOOOOOIWuWIwWuI|\n",
        "|WzWPzUwWUIWwzPOOOOOOWIUuUwOOOOOOuIPUPzzwz|\n",
        "|UwPUWUuPzPwWuzOOOOOOwwzPuIOOOOOOIwuuWuzUW|\n",
        "|IwWUwUuWuUwIPzOOOOOOIIPIwIOOOOOOuPuPWzIzW|\n",
        "|IuPuzuUwzwUuWzOOOOOOzUuUwuOOOOOOzUIzzwPUw|\n",
        "|UPUWWIwzuwPuPPOOOOOOUUUUPIOOOOOOzIzzuPuzW|\n",
        "|WwwIwUUWOOOOOOOOOOOOPwzIUwIOOOOOOPWWUIIIU|\n",
        "|zWzWuWPwOOOOOOUIzwUPUWzwuIWOOOOOOIIIUIIPu|\n",
        "|uzIWIWzUOOOOOOWPzIIuUUzWwWPOOOOOOzPWIUIWP|\n",
        "|IPWUuUPWOOOOOOIIuUPWPwIUIWwUzOOOOOOwWzIIW|\n",
        "|uuIuwUIuOOOOOOuUzUuUzWPuWwPuIOOOOOOWPWzPW|\n",
        "+-----------------------------------------+\n",
        "```\n",
        "\n"
      ],
      "metadata": {
        "id": "6WgXbIATl-G9"
      }
    }
  ]
}