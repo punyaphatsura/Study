{
  "cells": [
    {
      "cell_type": "markdown",
      "metadata": {
        "id": "OIom1X-v0TGc"
      },
      "source": [
        "# Assignment - Basic Pandas\n",
        "<sup>Created by Natawut Nupairoj, Department of Computer Engineering, Chulalongkorn University</sup>\n",
        "\n",
        "Using pandas to explore youtube trending data from GB (GBvideos.csv and GB_category_id.json) and answer the questions."
      ]
    },
    {
      "cell_type": "code",
      "execution_count": 1,
      "metadata": {
        "id": "_ooeQeBn0TGf"
      },
      "outputs": [],
      "source": [
        "import pandas as pd\n",
        "import numpy as np"
      ]
    },
    {
      "cell_type": "markdown",
      "metadata": {
        "id": "RNyAGpWT0TGh"
      },
      "source": [
        "To simplify data retrieval process on Colab, we heck if we are in the Colab environment and download data files from a shared drive and save them in folder \"data\".\n",
        "\n",
        "For those using jupyter notebook on the local computer, you can read data directly assuming you save data in the folder \"data\"."
      ]
    },
    {
      "cell_type": "code",
      "execution_count": 2,
      "metadata": {
        "colab": {
          "base_uri": "https://localhost:8080/"
        },
        "id": "qro_9JWV0TGi",
        "outputId": "d8b04251-7aca-43cc-f7e4-5818a310c3d7"
      },
      "outputs": [
        {
          "output_type": "stream",
          "name": "stdout",
          "text": [
            "--2024-01-11 16:51:59--  https://github.com/kaopanboonyuen/2110446_DataScience_2021s2/raw/main/datasets/data.tgz\n",
            "Resolving github.com (github.com)... 140.82.114.4\n",
            "Connecting to github.com (github.com)|140.82.114.4|:443... connected.\n",
            "HTTP request sent, awaiting response... 302 Found\n",
            "Location: https://raw.githubusercontent.com/kaopanboonyuen/2110446_DataScience_2021s2/main/datasets/data.tgz [following]\n",
            "--2024-01-11 16:51:59--  https://raw.githubusercontent.com/kaopanboonyuen/2110446_DataScience_2021s2/main/datasets/data.tgz\n",
            "Resolving raw.githubusercontent.com (raw.githubusercontent.com)... 185.199.108.133, 185.199.109.133, 185.199.110.133, ...\n",
            "Connecting to raw.githubusercontent.com (raw.githubusercontent.com)|185.199.108.133|:443... connected.\n",
            "HTTP request sent, awaiting response... 200 OK\n",
            "Length: 45477462 (43M) [application/octet-stream]\n",
            "Saving to: ‘data.tgz’\n",
            "\n",
            "data.tgz            100%[===================>]  43.37M   134MB/s    in 0.3s    \n",
            "\n",
            "2024-01-11 16:52:00 (134 MB/s) - ‘data.tgz’ saved [45477462/45477462]\n",
            "\n",
            "data/\n",
            "data/._GB_category_id.json\n",
            "data/GB_category_id.json\n",
            "data/._US_category_id.json\n",
            "data/US_category_id.json\n",
            "data/._USvideos.csv\n",
            "data/USvideos.csv\n",
            "data/._GBvideos.csv\n",
            "data/GBvideos.csv\n"
          ]
        }
      ],
      "source": [
        "import sys\n",
        "IN_COLAB = 'google.colab' in sys.modules\n",
        "if IN_COLAB:\n",
        "    !wget https://github.com/kaopanboonyuen/2110446_DataScience_2021s2/raw/main/datasets/data.tgz -O data.tgz\n",
        "    !tar -xzvf data.tgz"
      ]
    },
    {
      "cell_type": "code",
      "execution_count": 3,
      "metadata": {
        "id": "PFzYyW7V0TGj"
      },
      "outputs": [],
      "source": [
        "vdo_df = pd.read_csv('data/GBvideos.csv')\n",
        "catagory_vdo = pd.read_json('data/GB_category_id.json')"
      ]
    },
    {
      "cell_type": "markdown",
      "metadata": {
        "id": "rkNi2LHT0TGj"
      },
      "source": [
        "## How many rows are there in the GBvideos.csv after removing duplications?"
      ]
    },
    {
      "cell_type": "code",
      "source": [
        "vdo_nondup = vdo_df.drop_duplicates()\n",
        "print(vdo_nondup.shape[0])"
      ],
      "metadata": {
        "id": "aZSR4A5BB0U-",
        "outputId": "f8e95dc9-6341-4492-cc8e-25725b96acfc",
        "colab": {
          "base_uri": "https://localhost:8080/"
        }
      },
      "execution_count": 11,
      "outputs": [
        {
          "output_type": "stream",
          "name": "stdout",
          "text": [
            "38745\n"
          ]
        }
      ]
    },
    {
      "cell_type": "code",
      "source": [
        "vdo_nondup"
      ],
      "metadata": {
        "id": "FOlgQVrlUejT",
        "outputId": "064b9120-fc15-47f6-94f4-d9bfa8a1b56b",
        "colab": {
          "base_uri": "https://localhost:8080/",
          "height": 947
        }
      },
      "execution_count": 5,
      "outputs": [
        {
          "output_type": "execute_result",
          "data": {
            "text/plain": [
              "          video_id trending_date  \\\n",
              "0      Jw1Y-zhQURU      17.14.11   \n",
              "1      3s1rvMFUweQ      17.14.11   \n",
              "2      n1WpP7iowLc      17.14.11   \n",
              "3      PUTEiSjKwJU      17.14.11   \n",
              "4      rHwDegptbI4      17.14.11   \n",
              "...            ...           ...   \n",
              "38911  l884wKofd54      18.14.06   \n",
              "38912  IP8k2xkhOdI      18.14.06   \n",
              "38913  Il-an3K9pjg      18.14.06   \n",
              "38914  -DRsfNObKIQ      18.14.06   \n",
              "38915  4YFo4bdMO8Q      18.14.06   \n",
              "\n",
              "                                                   title  \\\n",
              "0          John Lewis Christmas Ad 2017 - #MozTheMonster   \n",
              "1              Taylor Swift: …Ready for It? (Live) - SNL   \n",
              "2             Eminem - Walk On Water (Audio) ft. Beyoncé   \n",
              "3      Goals from Salford City vs Class of 92 and Fri...   \n",
              "4      Dashcam captures truck's near miss with child ...   \n",
              "...                                                  ...   \n",
              "38911  Enrique Iglesias - MOVE TO MIAMI (Official Vid...   \n",
              "38912  Jacob Sartorius - Up With It (Official Music V...   \n",
              "38913                 Anne-Marie - 2002 [Official Video]   \n",
              "38914  Eleni Foureira - Fuego - Cyprus - LIVE - First...   \n",
              "38915  KYLE - Ikuyo feat.  2 Chainz & Sophia Black [A...   \n",
              "\n",
              "                    channel_title  category_id              publish_time  \\\n",
              "0                      John Lewis           26  2017-11-10T07:38:29.000Z   \n",
              "1             Saturday Night Live           24  2017-11-12T06:24:44.000Z   \n",
              "2                      EminemVEVO           10  2017-11-10T17:00:03.000Z   \n",
              "3      Salford City Football Club           17  2017-11-13T02:30:38.000Z   \n",
              "4                Cute Girl Videos           25  2017-11-13T01:45:13.000Z   \n",
              "...                           ...          ...                       ...   \n",
              "38911         EnriqueIglesiasVEVO           10  2018-05-09T07:00:01.000Z   \n",
              "38912             Jacob Sartorius           10  2018-05-11T17:09:16.000Z   \n",
              "38913                  Anne-Marie           10  2018-05-08T11:05:08.000Z   \n",
              "38914     Eurovision Song Contest           24  2018-05-08T20:32:32.000Z   \n",
              "38915              SuperDuperKyle           10  2018-05-11T04:06:35.000Z   \n",
              "\n",
              "                                                    tags     views   likes  \\\n",
              "0      christmas|\"john lewis christmas\"|\"john lewis\"|...   7224515   55681   \n",
              "1      SNL|\"Saturday Night Live\"|\"SNL Season 43\"|\"Epi...   1053632   25561   \n",
              "2      Eminem|\"Walk\"|\"On\"|\"Water\"|\"Aftermath/Shady/In...  17158579  787420   \n",
              "3      Salford City FC|\"Salford City\"|\"Salford\"|\"Clas...     27833     193   \n",
              "4                                                 [none]      9815      30   \n",
              "...                                                  ...       ...     ...   \n",
              "38911  Enrique Iglesias feat. Pitbull|\"MOVE TO MIAMI\"...  25066952  268088   \n",
              "38912  jacob sartorius|\"jacob\"|\"up with it\"|\"jacob sa...   1492219   61998   \n",
              "38913  anne|\"marie\"|\"anne-marie\"|\"2002\"|\"two thousand...  29641412  394830   \n",
              "38914  Eurovision Song Contest|\"2018\"|\"Lisbon\"|\"Cypru...  14317515  151870   \n",
              "38915  Kyle|\"SuperDuperKyle\"|\"Ikuyo\"|\"2 Chainz\"|\"Soph...    607552   18271   \n",
              "\n",
              "       dislikes  comment_count  \\\n",
              "0         10247           9479   \n",
              "1          2294           2757   \n",
              "2         43420         125882   \n",
              "3            12             37   \n",
              "4             2             30   \n",
              "...         ...            ...   \n",
              "38911     12783           9933   \n",
              "38912     13781          24330   \n",
              "38913      8892          19988   \n",
              "38914     45875          26766   \n",
              "38915       274           1423   \n",
              "\n",
              "                                       thumbnail_link  comments_disabled  \\\n",
              "0      https://i.ytimg.com/vi/Jw1Y-zhQURU/default.jpg              False   \n",
              "1      https://i.ytimg.com/vi/3s1rvMFUweQ/default.jpg              False   \n",
              "2      https://i.ytimg.com/vi/n1WpP7iowLc/default.jpg              False   \n",
              "3      https://i.ytimg.com/vi/PUTEiSjKwJU/default.jpg              False   \n",
              "4      https://i.ytimg.com/vi/rHwDegptbI4/default.jpg              False   \n",
              "...                                               ...                ...   \n",
              "38911  https://i.ytimg.com/vi/l884wKofd54/default.jpg              False   \n",
              "38912  https://i.ytimg.com/vi/IP8k2xkhOdI/default.jpg              False   \n",
              "38913  https://i.ytimg.com/vi/Il-an3K9pjg/default.jpg              False   \n",
              "38914  https://i.ytimg.com/vi/-DRsfNObKIQ/default.jpg              False   \n",
              "38915  https://i.ytimg.com/vi/4YFo4bdMO8Q/default.jpg              False   \n",
              "\n",
              "       ratings_disabled  video_error_or_removed  \\\n",
              "0                 False                   False   \n",
              "1                 False                   False   \n",
              "2                 False                   False   \n",
              "3                 False                   False   \n",
              "4                 False                   False   \n",
              "...                 ...                     ...   \n",
              "38911             False                   False   \n",
              "38912             False                   False   \n",
              "38913             False                   False   \n",
              "38914             False                   False   \n",
              "38915             False                   False   \n",
              "\n",
              "                                             description  \n",
              "0      Click here to continue the story and make your...  \n",
              "1      Musical guest Taylor Swift performs …Ready for...  \n",
              "2      Eminem's new track Walk on Water ft. Beyoncé i...  \n",
              "3      Salford drew 4-4 against the Class of 92 and F...  \n",
              "4      Dashcam captures truck's near miss with child ...  \n",
              "...                                                  ...  \n",
              "38911  NEW SONG - MOVE TO MIAMI feat. Pitbull (Click ...  \n",
              "38912  THE OFFICIAL UP WITH IT MUSIC VIDEO!Get my new...  \n",
              "38913  Get 2002 by Anne-Marie HERE ▶ http://ad.gt/200...  \n",
              "38914  Eleni Foureira represented Cyprus at the first...  \n",
              "38915  Debut album 'Light of Mine' out now: http://ky...  \n",
              "\n",
              "[38745 rows x 16 columns]"
            ],
            "text/html": [
              "\n",
              "  <div id=\"df-cb878906-df13-4298-b76c-447346c65efb\" class=\"colab-df-container\">\n",
              "    <div>\n",
              "<style scoped>\n",
              "    .dataframe tbody tr th:only-of-type {\n",
              "        vertical-align: middle;\n",
              "    }\n",
              "\n",
              "    .dataframe tbody tr th {\n",
              "        vertical-align: top;\n",
              "    }\n",
              "\n",
              "    .dataframe thead th {\n",
              "        text-align: right;\n",
              "    }\n",
              "</style>\n",
              "<table border=\"1\" class=\"dataframe\">\n",
              "  <thead>\n",
              "    <tr style=\"text-align: right;\">\n",
              "      <th></th>\n",
              "      <th>video_id</th>\n",
              "      <th>trending_date</th>\n",
              "      <th>title</th>\n",
              "      <th>channel_title</th>\n",
              "      <th>category_id</th>\n",
              "      <th>publish_time</th>\n",
              "      <th>tags</th>\n",
              "      <th>views</th>\n",
              "      <th>likes</th>\n",
              "      <th>dislikes</th>\n",
              "      <th>comment_count</th>\n",
              "      <th>thumbnail_link</th>\n",
              "      <th>comments_disabled</th>\n",
              "      <th>ratings_disabled</th>\n",
              "      <th>video_error_or_removed</th>\n",
              "      <th>description</th>\n",
              "    </tr>\n",
              "  </thead>\n",
              "  <tbody>\n",
              "    <tr>\n",
              "      <th>0</th>\n",
              "      <td>Jw1Y-zhQURU</td>\n",
              "      <td>17.14.11</td>\n",
              "      <td>John Lewis Christmas Ad 2017 - #MozTheMonster</td>\n",
              "      <td>John Lewis</td>\n",
              "      <td>26</td>\n",
              "      <td>2017-11-10T07:38:29.000Z</td>\n",
              "      <td>christmas|\"john lewis christmas\"|\"john lewis\"|...</td>\n",
              "      <td>7224515</td>\n",
              "      <td>55681</td>\n",
              "      <td>10247</td>\n",
              "      <td>9479</td>\n",
              "      <td>https://i.ytimg.com/vi/Jw1Y-zhQURU/default.jpg</td>\n",
              "      <td>False</td>\n",
              "      <td>False</td>\n",
              "      <td>False</td>\n",
              "      <td>Click here to continue the story and make your...</td>\n",
              "    </tr>\n",
              "    <tr>\n",
              "      <th>1</th>\n",
              "      <td>3s1rvMFUweQ</td>\n",
              "      <td>17.14.11</td>\n",
              "      <td>Taylor Swift: …Ready for It? (Live) - SNL</td>\n",
              "      <td>Saturday Night Live</td>\n",
              "      <td>24</td>\n",
              "      <td>2017-11-12T06:24:44.000Z</td>\n",
              "      <td>SNL|\"Saturday Night Live\"|\"SNL Season 43\"|\"Epi...</td>\n",
              "      <td>1053632</td>\n",
              "      <td>25561</td>\n",
              "      <td>2294</td>\n",
              "      <td>2757</td>\n",
              "      <td>https://i.ytimg.com/vi/3s1rvMFUweQ/default.jpg</td>\n",
              "      <td>False</td>\n",
              "      <td>False</td>\n",
              "      <td>False</td>\n",
              "      <td>Musical guest Taylor Swift performs …Ready for...</td>\n",
              "    </tr>\n",
              "    <tr>\n",
              "      <th>2</th>\n",
              "      <td>n1WpP7iowLc</td>\n",
              "      <td>17.14.11</td>\n",
              "      <td>Eminem - Walk On Water (Audio) ft. Beyoncé</td>\n",
              "      <td>EminemVEVO</td>\n",
              "      <td>10</td>\n",
              "      <td>2017-11-10T17:00:03.000Z</td>\n",
              "      <td>Eminem|\"Walk\"|\"On\"|\"Water\"|\"Aftermath/Shady/In...</td>\n",
              "      <td>17158579</td>\n",
              "      <td>787420</td>\n",
              "      <td>43420</td>\n",
              "      <td>125882</td>\n",
              "      <td>https://i.ytimg.com/vi/n1WpP7iowLc/default.jpg</td>\n",
              "      <td>False</td>\n",
              "      <td>False</td>\n",
              "      <td>False</td>\n",
              "      <td>Eminem's new track Walk on Water ft. Beyoncé i...</td>\n",
              "    </tr>\n",
              "    <tr>\n",
              "      <th>3</th>\n",
              "      <td>PUTEiSjKwJU</td>\n",
              "      <td>17.14.11</td>\n",
              "      <td>Goals from Salford City vs Class of 92 and Fri...</td>\n",
              "      <td>Salford City Football Club</td>\n",
              "      <td>17</td>\n",
              "      <td>2017-11-13T02:30:38.000Z</td>\n",
              "      <td>Salford City FC|\"Salford City\"|\"Salford\"|\"Clas...</td>\n",
              "      <td>27833</td>\n",
              "      <td>193</td>\n",
              "      <td>12</td>\n",
              "      <td>37</td>\n",
              "      <td>https://i.ytimg.com/vi/PUTEiSjKwJU/default.jpg</td>\n",
              "      <td>False</td>\n",
              "      <td>False</td>\n",
              "      <td>False</td>\n",
              "      <td>Salford drew 4-4 against the Class of 92 and F...</td>\n",
              "    </tr>\n",
              "    <tr>\n",
              "      <th>4</th>\n",
              "      <td>rHwDegptbI4</td>\n",
              "      <td>17.14.11</td>\n",
              "      <td>Dashcam captures truck's near miss with child ...</td>\n",
              "      <td>Cute Girl Videos</td>\n",
              "      <td>25</td>\n",
              "      <td>2017-11-13T01:45:13.000Z</td>\n",
              "      <td>[none]</td>\n",
              "      <td>9815</td>\n",
              "      <td>30</td>\n",
              "      <td>2</td>\n",
              "      <td>30</td>\n",
              "      <td>https://i.ytimg.com/vi/rHwDegptbI4/default.jpg</td>\n",
              "      <td>False</td>\n",
              "      <td>False</td>\n",
              "      <td>False</td>\n",
              "      <td>Dashcam captures truck's near miss with child ...</td>\n",
              "    </tr>\n",
              "    <tr>\n",
              "      <th>...</th>\n",
              "      <td>...</td>\n",
              "      <td>...</td>\n",
              "      <td>...</td>\n",
              "      <td>...</td>\n",
              "      <td>...</td>\n",
              "      <td>...</td>\n",
              "      <td>...</td>\n",
              "      <td>...</td>\n",
              "      <td>...</td>\n",
              "      <td>...</td>\n",
              "      <td>...</td>\n",
              "      <td>...</td>\n",
              "      <td>...</td>\n",
              "      <td>...</td>\n",
              "      <td>...</td>\n",
              "      <td>...</td>\n",
              "    </tr>\n",
              "    <tr>\n",
              "      <th>38911</th>\n",
              "      <td>l884wKofd54</td>\n",
              "      <td>18.14.06</td>\n",
              "      <td>Enrique Iglesias - MOVE TO MIAMI (Official Vid...</td>\n",
              "      <td>EnriqueIglesiasVEVO</td>\n",
              "      <td>10</td>\n",
              "      <td>2018-05-09T07:00:01.000Z</td>\n",
              "      <td>Enrique Iglesias feat. Pitbull|\"MOVE TO MIAMI\"...</td>\n",
              "      <td>25066952</td>\n",
              "      <td>268088</td>\n",
              "      <td>12783</td>\n",
              "      <td>9933</td>\n",
              "      <td>https://i.ytimg.com/vi/l884wKofd54/default.jpg</td>\n",
              "      <td>False</td>\n",
              "      <td>False</td>\n",
              "      <td>False</td>\n",
              "      <td>NEW SONG - MOVE TO MIAMI feat. Pitbull (Click ...</td>\n",
              "    </tr>\n",
              "    <tr>\n",
              "      <th>38912</th>\n",
              "      <td>IP8k2xkhOdI</td>\n",
              "      <td>18.14.06</td>\n",
              "      <td>Jacob Sartorius - Up With It (Official Music V...</td>\n",
              "      <td>Jacob Sartorius</td>\n",
              "      <td>10</td>\n",
              "      <td>2018-05-11T17:09:16.000Z</td>\n",
              "      <td>jacob sartorius|\"jacob\"|\"up with it\"|\"jacob sa...</td>\n",
              "      <td>1492219</td>\n",
              "      <td>61998</td>\n",
              "      <td>13781</td>\n",
              "      <td>24330</td>\n",
              "      <td>https://i.ytimg.com/vi/IP8k2xkhOdI/default.jpg</td>\n",
              "      <td>False</td>\n",
              "      <td>False</td>\n",
              "      <td>False</td>\n",
              "      <td>THE OFFICIAL UP WITH IT MUSIC VIDEO!Get my new...</td>\n",
              "    </tr>\n",
              "    <tr>\n",
              "      <th>38913</th>\n",
              "      <td>Il-an3K9pjg</td>\n",
              "      <td>18.14.06</td>\n",
              "      <td>Anne-Marie - 2002 [Official Video]</td>\n",
              "      <td>Anne-Marie</td>\n",
              "      <td>10</td>\n",
              "      <td>2018-05-08T11:05:08.000Z</td>\n",
              "      <td>anne|\"marie\"|\"anne-marie\"|\"2002\"|\"two thousand...</td>\n",
              "      <td>29641412</td>\n",
              "      <td>394830</td>\n",
              "      <td>8892</td>\n",
              "      <td>19988</td>\n",
              "      <td>https://i.ytimg.com/vi/Il-an3K9pjg/default.jpg</td>\n",
              "      <td>False</td>\n",
              "      <td>False</td>\n",
              "      <td>False</td>\n",
              "      <td>Get 2002 by Anne-Marie HERE ▶ http://ad.gt/200...</td>\n",
              "    </tr>\n",
              "    <tr>\n",
              "      <th>38914</th>\n",
              "      <td>-DRsfNObKIQ</td>\n",
              "      <td>18.14.06</td>\n",
              "      <td>Eleni Foureira - Fuego - Cyprus - LIVE - First...</td>\n",
              "      <td>Eurovision Song Contest</td>\n",
              "      <td>24</td>\n",
              "      <td>2018-05-08T20:32:32.000Z</td>\n",
              "      <td>Eurovision Song Contest|\"2018\"|\"Lisbon\"|\"Cypru...</td>\n",
              "      <td>14317515</td>\n",
              "      <td>151870</td>\n",
              "      <td>45875</td>\n",
              "      <td>26766</td>\n",
              "      <td>https://i.ytimg.com/vi/-DRsfNObKIQ/default.jpg</td>\n",
              "      <td>False</td>\n",
              "      <td>False</td>\n",
              "      <td>False</td>\n",
              "      <td>Eleni Foureira represented Cyprus at the first...</td>\n",
              "    </tr>\n",
              "    <tr>\n",
              "      <th>38915</th>\n",
              "      <td>4YFo4bdMO8Q</td>\n",
              "      <td>18.14.06</td>\n",
              "      <td>KYLE - Ikuyo feat.  2 Chainz &amp; Sophia Black [A...</td>\n",
              "      <td>SuperDuperKyle</td>\n",
              "      <td>10</td>\n",
              "      <td>2018-05-11T04:06:35.000Z</td>\n",
              "      <td>Kyle|\"SuperDuperKyle\"|\"Ikuyo\"|\"2 Chainz\"|\"Soph...</td>\n",
              "      <td>607552</td>\n",
              "      <td>18271</td>\n",
              "      <td>274</td>\n",
              "      <td>1423</td>\n",
              "      <td>https://i.ytimg.com/vi/4YFo4bdMO8Q/default.jpg</td>\n",
              "      <td>False</td>\n",
              "      <td>False</td>\n",
              "      <td>False</td>\n",
              "      <td>Debut album 'Light of Mine' out now: http://ky...</td>\n",
              "    </tr>\n",
              "  </tbody>\n",
              "</table>\n",
              "<p>38745 rows × 16 columns</p>\n",
              "</div>\n",
              "    <div class=\"colab-df-buttons\">\n",
              "\n",
              "  <div class=\"colab-df-container\">\n",
              "    <button class=\"colab-df-convert\" onclick=\"convertToInteractive('df-cb878906-df13-4298-b76c-447346c65efb')\"\n",
              "            title=\"Convert this dataframe to an interactive table.\"\n",
              "            style=\"display:none;\">\n",
              "\n",
              "  <svg xmlns=\"http://www.w3.org/2000/svg\" height=\"24px\" viewBox=\"0 -960 960 960\">\n",
              "    <path d=\"M120-120v-720h720v720H120Zm60-500h600v-160H180v160Zm220 220h160v-160H400v160Zm0 220h160v-160H400v160ZM180-400h160v-160H180v160Zm440 0h160v-160H620v160ZM180-180h160v-160H180v160Zm440 0h160v-160H620v160Z\"/>\n",
              "  </svg>\n",
              "    </button>\n",
              "\n",
              "  <style>\n",
              "    .colab-df-container {\n",
              "      display:flex;\n",
              "      gap: 12px;\n",
              "    }\n",
              "\n",
              "    .colab-df-convert {\n",
              "      background-color: #E8F0FE;\n",
              "      border: none;\n",
              "      border-radius: 50%;\n",
              "      cursor: pointer;\n",
              "      display: none;\n",
              "      fill: #1967D2;\n",
              "      height: 32px;\n",
              "      padding: 0 0 0 0;\n",
              "      width: 32px;\n",
              "    }\n",
              "\n",
              "    .colab-df-convert:hover {\n",
              "      background-color: #E2EBFA;\n",
              "      box-shadow: 0px 1px 2px rgba(60, 64, 67, 0.3), 0px 1px 3px 1px rgba(60, 64, 67, 0.15);\n",
              "      fill: #174EA6;\n",
              "    }\n",
              "\n",
              "    .colab-df-buttons div {\n",
              "      margin-bottom: 4px;\n",
              "    }\n",
              "\n",
              "    [theme=dark] .colab-df-convert {\n",
              "      background-color: #3B4455;\n",
              "      fill: #D2E3FC;\n",
              "    }\n",
              "\n",
              "    [theme=dark] .colab-df-convert:hover {\n",
              "      background-color: #434B5C;\n",
              "      box-shadow: 0px 1px 3px 1px rgba(0, 0, 0, 0.15);\n",
              "      filter: drop-shadow(0px 1px 2px rgba(0, 0, 0, 0.3));\n",
              "      fill: #FFFFFF;\n",
              "    }\n",
              "  </style>\n",
              "\n",
              "    <script>\n",
              "      const buttonEl =\n",
              "        document.querySelector('#df-cb878906-df13-4298-b76c-447346c65efb button.colab-df-convert');\n",
              "      buttonEl.style.display =\n",
              "        google.colab.kernel.accessAllowed ? 'block' : 'none';\n",
              "\n",
              "      async function convertToInteractive(key) {\n",
              "        const element = document.querySelector('#df-cb878906-df13-4298-b76c-447346c65efb');\n",
              "        const dataTable =\n",
              "          await google.colab.kernel.invokeFunction('convertToInteractive',\n",
              "                                                    [key], {});\n",
              "        if (!dataTable) return;\n",
              "\n",
              "        const docLinkHtml = 'Like what you see? Visit the ' +\n",
              "          '<a target=\"_blank\" href=https://colab.research.google.com/notebooks/data_table.ipynb>data table notebook</a>'\n",
              "          + ' to learn more about interactive tables.';\n",
              "        element.innerHTML = '';\n",
              "        dataTable['output_type'] = 'display_data';\n",
              "        await google.colab.output.renderOutput(dataTable, element);\n",
              "        const docLink = document.createElement('div');\n",
              "        docLink.innerHTML = docLinkHtml;\n",
              "        element.appendChild(docLink);\n",
              "      }\n",
              "    </script>\n",
              "  </div>\n",
              "\n",
              "\n",
              "<div id=\"df-66c83855-9bc3-42cd-8927-642a757ba12e\">\n",
              "  <button class=\"colab-df-quickchart\" onclick=\"quickchart('df-66c83855-9bc3-42cd-8927-642a757ba12e')\"\n",
              "            title=\"Suggest charts\"\n",
              "            style=\"display:none;\">\n",
              "\n",
              "<svg xmlns=\"http://www.w3.org/2000/svg\" height=\"24px\"viewBox=\"0 0 24 24\"\n",
              "     width=\"24px\">\n",
              "    <g>\n",
              "        <path d=\"M19 3H5c-1.1 0-2 .9-2 2v14c0 1.1.9 2 2 2h14c1.1 0 2-.9 2-2V5c0-1.1-.9-2-2-2zM9 17H7v-7h2v7zm4 0h-2V7h2v10zm4 0h-2v-4h2v4z\"/>\n",
              "    </g>\n",
              "</svg>\n",
              "  </button>\n",
              "\n",
              "<style>\n",
              "  .colab-df-quickchart {\n",
              "      --bg-color: #E8F0FE;\n",
              "      --fill-color: #1967D2;\n",
              "      --hover-bg-color: #E2EBFA;\n",
              "      --hover-fill-color: #174EA6;\n",
              "      --disabled-fill-color: #AAA;\n",
              "      --disabled-bg-color: #DDD;\n",
              "  }\n",
              "\n",
              "  [theme=dark] .colab-df-quickchart {\n",
              "      --bg-color: #3B4455;\n",
              "      --fill-color: #D2E3FC;\n",
              "      --hover-bg-color: #434B5C;\n",
              "      --hover-fill-color: #FFFFFF;\n",
              "      --disabled-bg-color: #3B4455;\n",
              "      --disabled-fill-color: #666;\n",
              "  }\n",
              "\n",
              "  .colab-df-quickchart {\n",
              "    background-color: var(--bg-color);\n",
              "    border: none;\n",
              "    border-radius: 50%;\n",
              "    cursor: pointer;\n",
              "    display: none;\n",
              "    fill: var(--fill-color);\n",
              "    height: 32px;\n",
              "    padding: 0;\n",
              "    width: 32px;\n",
              "  }\n",
              "\n",
              "  .colab-df-quickchart:hover {\n",
              "    background-color: var(--hover-bg-color);\n",
              "    box-shadow: 0 1px 2px rgba(60, 64, 67, 0.3), 0 1px 3px 1px rgba(60, 64, 67, 0.15);\n",
              "    fill: var(--button-hover-fill-color);\n",
              "  }\n",
              "\n",
              "  .colab-df-quickchart-complete:disabled,\n",
              "  .colab-df-quickchart-complete:disabled:hover {\n",
              "    background-color: var(--disabled-bg-color);\n",
              "    fill: var(--disabled-fill-color);\n",
              "    box-shadow: none;\n",
              "  }\n",
              "\n",
              "  .colab-df-spinner {\n",
              "    border: 2px solid var(--fill-color);\n",
              "    border-color: transparent;\n",
              "    border-bottom-color: var(--fill-color);\n",
              "    animation:\n",
              "      spin 1s steps(1) infinite;\n",
              "  }\n",
              "\n",
              "  @keyframes spin {\n",
              "    0% {\n",
              "      border-color: transparent;\n",
              "      border-bottom-color: var(--fill-color);\n",
              "      border-left-color: var(--fill-color);\n",
              "    }\n",
              "    20% {\n",
              "      border-color: transparent;\n",
              "      border-left-color: var(--fill-color);\n",
              "      border-top-color: var(--fill-color);\n",
              "    }\n",
              "    30% {\n",
              "      border-color: transparent;\n",
              "      border-left-color: var(--fill-color);\n",
              "      border-top-color: var(--fill-color);\n",
              "      border-right-color: var(--fill-color);\n",
              "    }\n",
              "    40% {\n",
              "      border-color: transparent;\n",
              "      border-right-color: var(--fill-color);\n",
              "      border-top-color: var(--fill-color);\n",
              "    }\n",
              "    60% {\n",
              "      border-color: transparent;\n",
              "      border-right-color: var(--fill-color);\n",
              "    }\n",
              "    80% {\n",
              "      border-color: transparent;\n",
              "      border-right-color: var(--fill-color);\n",
              "      border-bottom-color: var(--fill-color);\n",
              "    }\n",
              "    90% {\n",
              "      border-color: transparent;\n",
              "      border-bottom-color: var(--fill-color);\n",
              "    }\n",
              "  }\n",
              "</style>\n",
              "\n",
              "  <script>\n",
              "    async function quickchart(key) {\n",
              "      const quickchartButtonEl =\n",
              "        document.querySelector('#' + key + ' button');\n",
              "      quickchartButtonEl.disabled = true;  // To prevent multiple clicks.\n",
              "      quickchartButtonEl.classList.add('colab-df-spinner');\n",
              "      try {\n",
              "        const charts = await google.colab.kernel.invokeFunction(\n",
              "            'suggestCharts', [key], {});\n",
              "      } catch (error) {\n",
              "        console.error('Error during call to suggestCharts:', error);\n",
              "      }\n",
              "      quickchartButtonEl.classList.remove('colab-df-spinner');\n",
              "      quickchartButtonEl.classList.add('colab-df-quickchart-complete');\n",
              "    }\n",
              "    (() => {\n",
              "      let quickchartButtonEl =\n",
              "        document.querySelector('#df-66c83855-9bc3-42cd-8927-642a757ba12e button');\n",
              "      quickchartButtonEl.style.display =\n",
              "        google.colab.kernel.accessAllowed ? 'block' : 'none';\n",
              "    })();\n",
              "  </script>\n",
              "</div>\n",
              "    </div>\n",
              "  </div>\n"
            ]
          },
          "metadata": {},
          "execution_count": 5
        }
      ]
    },
    {
      "cell_type": "code",
      "source": [
        "vdo_nondup.columns"
      ],
      "metadata": {
        "id": "C68z6GrXDNxS",
        "outputId": "32077266-47dc-459f-e65d-e1af2fa39961",
        "colab": {
          "base_uri": "https://localhost:8080/"
        }
      },
      "execution_count": 6,
      "outputs": [
        {
          "output_type": "execute_result",
          "data": {
            "text/plain": [
              "Index(['video_id', 'trending_date', 'title', 'channel_title', 'category_id',\n",
              "       'publish_time', 'tags', 'views', 'likes', 'dislikes', 'comment_count',\n",
              "       'thumbnail_link', 'comments_disabled', 'ratings_disabled',\n",
              "       'video_error_or_removed', 'description'],\n",
              "      dtype='object')"
            ]
          },
          "metadata": {},
          "execution_count": 6
        }
      ]
    },
    {
      "cell_type": "markdown",
      "metadata": {
        "id": "mSc2U7HJ0TGk"
      },
      "source": [
        "## How many VDO's that contain at least one record (row) of \"dislikes\" more than \"likes\"?  <font color=red>DO NOT group by the data and make sure that you count only unique title!</font>"
      ]
    },
    {
      "cell_type": "code",
      "execution_count": 7,
      "metadata": {
        "id": "Q0NF1dI40TGk",
        "outputId": "136e9020-fa87-47d6-c433-7ac59de7c482",
        "colab": {
          "base_uri": "https://localhost:8080/"
        }
      },
      "outputs": [
        {
          "output_type": "execute_result",
          "data": {
            "text/plain": [
              "56"
            ]
          },
          "metadata": {},
          "execution_count": 7
        }
      ],
      "source": [
        "cop = vdo_nondup.copy()\n",
        "cop[cop.dislikes>cop.likes].title.nunique()"
      ]
    },
    {
      "cell_type": "markdown",
      "metadata": {
        "id": "oNxh-5CL0TGk"
      },
      "source": [
        "## How many VDO that are trending on 22 Jan 2018 with comments more than 10,000 comments?"
      ]
    },
    {
      "cell_type": "code",
      "execution_count": 8,
      "metadata": {
        "id": "07-y5sNw0TGl",
        "outputId": "b8a1a99f-70f0-4d9d-e111-738184351668",
        "colab": {
          "base_uri": "https://localhost:8080/"
        }
      },
      "outputs": [
        {
          "output_type": "execute_result",
          "data": {
            "text/plain": [
              "28"
            ]
          },
          "metadata": {},
          "execution_count": 8
        }
      ],
      "source": [
        "cop = vdo_nondup.copy()\n",
        "cop[(cop.trending_date == '18.22.01') & (cop.comment_count>10000)].shape[0]"
      ]
    },
    {
      "cell_type": "markdown",
      "metadata": {
        "id": "jnBQwfD70TGl"
      },
      "source": [
        "## Which date that has the minimum average number of comments per VDO?"
      ]
    },
    {
      "cell_type": "code",
      "execution_count": 9,
      "metadata": {
        "id": "KIDZyavc0TGl",
        "outputId": "31c76c40-4150-407d-d3f6-29512e8d1511",
        "colab": {
          "base_uri": "https://localhost:8080/"
        }
      },
      "outputs": [
        {
          "output_type": "execute_result",
          "data": {
            "text/plain": [
              "['17.15.11']"
            ]
          },
          "metadata": {},
          "execution_count": 9
        }
      ],
      "source": [
        "cop = vdo_nondup.copy()\n",
        "cop_vdocount = cop.groupby('trending_date')['comment_count'].mean()\n",
        "cop_vdocount[cop_vdocount == cop_vdocount.min()].index.tolist()"
      ]
    },
    {
      "cell_type": "markdown",
      "metadata": {
        "id": "wL7iTiic0TGl"
      },
      "source": [
        "## Compare \"Sports\" and \"Comady\", how many days that there are more total daily views of VDO in \"Sports\" category than in \"Comady\" category?"
      ]
    },
    {
      "cell_type": "code",
      "execution_count": 10,
      "metadata": {
        "id": "UIzvYqdA0TGm",
        "outputId": "c62e0a6f-3728-405a-e3df-2271d452b38f",
        "colab": {
          "base_uri": "https://localhost:8080/"
        }
      },
      "outputs": [
        {
          "output_type": "execute_result",
          "data": {
            "text/plain": [
              "49"
            ]
          },
          "metadata": {},
          "execution_count": 10
        }
      ],
      "source": [
        "import json\n",
        "with open('data/GB_category_id.json') as f:\n",
        "    cat = json.load(f)\n",
        "cat_list = []\n",
        "for d in cat['items']:\n",
        "    cat_list.append((int(d['id']), d['snippet']['title']))\n",
        "cat_df = pd.DataFrame(cat_list, columns=['id', 'category'])\n",
        "cop = vdo_nondup.copy()\n",
        "\n",
        "df_merge = cop.merge(cat_df,left_on='category_id',right_on='id',how='inner')\n",
        "df_merge['comedy_views'] = df_merge['views'] * (df_merge['category'] == 'Comedy')\n",
        "df_merge['sport_views'] = df_merge['views'] * (df_merge['category'] == 'Sports')\n",
        "Comedy_views = df_merge.groupby('trending_date')['comedy_views'].sum()\n",
        "Sport_views = df_merge.groupby('trending_date')['sport_views'].sum()\n",
        "(Sport_views>Comedy_views).sum()"
      ]
    }
  ],
  "metadata": {
    "colab": {
      "provenance": []
    },
    "kernelspec": {
      "display_name": "Python 3 (ipykernel)",
      "language": "python",
      "name": "python3"
    },
    "language_info": {
      "codemirror_mode": {
        "name": "ipython",
        "version": 3
      },
      "file_extension": ".py",
      "mimetype": "text/x-python",
      "name": "python",
      "nbconvert_exporter": "python",
      "pygments_lexer": "ipython3",
      "version": "3.9.13"
    },
    "toc": {
      "base_numbering": 1,
      "nav_menu": {},
      "number_sections": true,
      "sideBar": true,
      "skip_h1_title": false,
      "title_cell": "Table of Contents",
      "title_sidebar": "Contents",
      "toc_cell": false,
      "toc_position": {},
      "toc_section_display": true,
      "toc_window_display": false
    },
    "varInspector": {
      "cols": {
        "lenName": 16,
        "lenType": 16,
        "lenVar": 40
      },
      "kernels_config": {
        "python": {
          "delete_cmd_postfix": "",
          "delete_cmd_prefix": "del ",
          "library": "var_list.py",
          "varRefreshCmd": "print(var_dic_list())"
        },
        "r": {
          "delete_cmd_postfix": ") ",
          "delete_cmd_prefix": "rm(",
          "library": "var_list.r",
          "varRefreshCmd": "cat(var_dic_list()) "
        }
      },
      "types_to_exclude": [
        "module",
        "function",
        "builtin_function_or_method",
        "instance",
        "_Feature"
      ],
      "window_display": false
    }
  },
  "nbformat": 4,
  "nbformat_minor": 0
}