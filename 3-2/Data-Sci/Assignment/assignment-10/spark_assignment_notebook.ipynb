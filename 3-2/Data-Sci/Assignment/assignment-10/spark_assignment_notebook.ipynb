{
 "cells": [
  {
   "cell_type": "markdown",
   "id": "68417137",
   "metadata": {},
   "source": [
    "\n",
    "# Spark Preparation\n",
    "\n",
    "We check if we are in Google Colab. If this is the case, install all necessary packages.\n",
    "\n",
    "To run spark in Colab, we need to first install all the dependencies in Colab environment i.e. Apache Spark 3.3.2 with hadoop 3.3, Java 8 and Findspark to locate the spark in the system. The tools installation can be carried out inside the Jupyter Notebook of the Colab. Learn more from A Must-Read Guide on How to Work with PySpark on Google Colab for Data Scientists!\n"
   ]
  },
  {
   "cell_type": "code",
   "execution_count": 4,
   "id": "f6eb7ad0",
   "metadata": {},
   "outputs": [],
   "source": [
    "\n",
    "!pip install -q findspark\n"
   ]
  },
  {
   "cell_type": "code",
   "execution_count": 2,
   "id": "f9d48cca",
   "metadata": {},
   "outputs": [],
   "source": [
    "\n",
    "import os\n",
    "\n",
    "os.environ[\"JAVA_HOME\"] = \"/opt/homebrew/Caskroom/openjdk/21.0.2\"\n",
    "os.environ[\"SPARK_HOME\"] = \"/opt/homebrew/Caskroom/apache-spark/3.5.1/libexec\"\n"
   ]
  },
  {
   "cell_type": "markdown",
   "id": "ee612133",
   "metadata": {},
   "source": [
    "\n",
    "## Start a Local Cluster\n"
   ]
  },
  {
   "cell_type": "code",
   "execution_count": null,
   "id": "73fb5c71",
   "metadata": {},
   "outputs": [],
   "source": [
    "\n",
    "import findspark\n",
    "findspark.init()\n"
   ]
  },
  {
   "cell_type": "code",
   "execution_count": null,
   "id": "893a540d",
   "metadata": {},
   "outputs": [],
   "source": [
    "\n",
    "spark_url = \"local\"\n"
   ]
  },
  {
   "cell_type": "code",
   "execution_count": null,
   "id": "80aeccd1",
   "metadata": {},
   "outputs": [],
   "source": [
    "\n",
    "from pyspark.sql import SparkSession\n",
    "\n",
    "spark = SparkSession.builder    .master(spark_url)    .appName('Spark Tutorial')    .config('spark.ui.port', '4040')    .getOrCreate()\n"
   ]
  },
  {
   "cell_type": "markdown",
   "id": "6444c87f",
   "metadata": {},
   "source": [
    "\n",
    "# Spark Assignment\n",
    "\n",
    "Based on the movie review dataset in 'netflix-rotten-tomatoes-metacritic-imdb.csv', answer the below questions.\n",
    "\n",
    "Note: do not clean or remove missing data.\n"
   ]
  },
  {
   "cell_type": "code",
   "execution_count": null,
   "id": "07bf7c76",
   "metadata": {},
   "outputs": [],
   "source": [
    "\n",
    "path = 'netflix-rotten-tomatoes-metacritic-imdb.csv'\n",
    "df = spark.read.option(\"header\", True).csv(path)\n"
   ]
  },
  {
   "cell_type": "code",
   "execution_count": null,
   "id": "01d9511e",
   "metadata": {},
   "outputs": [],
   "source": [
    "\n",
    "df.show(10)\n"
   ]
  },
  {
   "cell_type": "code",
   "execution_count": null,
   "id": "7e677962",
   "metadata": {},
   "outputs": [],
   "source": [
    "\n",
    "from pyspark.sql.functions import avg, min, max, countDistinct, explode, split, col\n",
    "\n",
    "avg_gem = df.select(avg('Hidden Gem Score'))\n",
    "max_gem = df.select(max('Hidden Gem Score'))\n",
    "\n",
    "avg_gem.show()\n",
    "max_gem.show()\n"
   ]
  },
  {
   "cell_type": "code",
   "execution_count": null,
   "id": "7f85e45d",
   "metadata": {},
   "outputs": [],
   "source": [
    "\n",
    "count = df.filter(df['Languages'].contains('Korea')).count()\n",
    "print(count)\n"
   ]
  },
  {
   "cell_type": "code",
   "execution_count": null,
   "id": "ab921328",
   "metadata": {},
   "outputs": [],
   "source": [
    "\n",
    "avg_director = df.groupBy('Director').agg(avg('Hidden Gem Score'))\n",
    "max_score = avg_director.select(max('avg(Hidden Gem Score)')).collect()[0][0]\n",
    "\n",
    "avg_director.filter(avg_director['avg(Hidden Gem Score)'] == max_score).show()\n"
   ]
  },
  {
   "cell_type": "code",
   "execution_count": null,
   "id": "7fcc6fcf",
   "metadata": {},
   "outputs": [],
   "source": [
    "\n",
    "df.withColumn(\"Genre\", explode(split(col(\"Genre\"), \", \"))).select('Genre').distinct().count()\n"
   ]
  }
 ],
 "metadata": {
  "kernelspec": {
   "display_name": "Python 3 (ipykernel)",
   "language": "python",
   "name": "python3"
  },
  "language_info": {
   "codemirror_mode": {
    "name": "ipython",
    "version": 3
   },
   "file_extension": ".py",
   "mimetype": "text/x-python",
   "name": "python",
   "nbconvert_exporter": "python",
   "pygments_lexer": "ipython3",
   "version": "3.9.18"
  }
 },
 "nbformat": 4,
 "nbformat_minor": 5
}
