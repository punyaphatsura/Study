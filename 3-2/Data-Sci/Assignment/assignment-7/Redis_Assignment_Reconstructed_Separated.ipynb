{
 "cells": [
  {
   "cell_type": "markdown",
   "id": "031713c2",
   "metadata": {},
   "source": [
    "## Redis Assignment Details\n",
    "In this assignment, you will access a Redis server using provided credentials and perform various queries to retrieve information."
   ]
  },
  {
   "cell_type": "code",
   "execution_count": null,
   "id": "0e5b8b36",
   "metadata": {},
   "outputs": [],
   "source": [
    "\n",
    "import sys\n",
    "IN_COLAB = 'google.colab' in sys.modules\n",
    "if IN_COLAB:\n",
    "    !pip install redis\n",
    "import redis\n",
    "\n",
    "\n",
    "rd = redis.Redis(host='lab.aimet.tech', charset=\"utf-8\", decode_responses=True)\n",
    "rd.auth(username='hw', password='hw')"
   ]
  },
  {
   "cell_type": "markdown",
   "id": "e55c174c",
   "metadata": {},
   "source": [
    "### Query 1: Retrieve a Username\n",
    "Retrieve the username associated with user id '600'."
   ]
  },
  {
   "cell_type": "code",
   "execution_count": null,
   "id": "bd065aaf",
   "metadata": {},
   "outputs": [],
   "source": [
    "rd.get('user:600:name')"
   ]
  },
  {
   "cell_type": "markdown",
   "id": "97505759",
   "metadata": {},
   "source": [
    "### Query 2: Retrieve a User ID\n",
    "Find the user ID associated with the username 'excitedPie4'."
   ]
  },
  {
   "cell_type": "code",
   "execution_count": null,
   "id": "4bef750d",
   "metadata": {},
   "outputs": [],
   "source": [
    "\n",
    "id_excitedPie4 = rd.get('username:excitedPie4')\n",
    "id_excitedPie4\n"
   ]
  },
  {
   "cell_type": "markdown",
   "id": "9c904202",
   "metadata": {},
   "source": [
    "### Query 3: Count Following\n",
    "Determine how many users 'excitedPie4' is following."
   ]
  },
  {
   "cell_type": "code",
   "execution_count": null,
   "id": "832d03e7",
   "metadata": {},
   "outputs": [],
   "source": [
    "\n",
    "rd.smembers(f'user:{id_excitedPie4}:follows')\n",
    "rd.scard(f'user:{id_excitedPie4}:follows')\n"
   ]
  },
  {
   "cell_type": "markdown",
   "id": "e31ef334",
   "metadata": {},
   "source": [
    "### Query 4: Total Users\n",
    "Count the total number of users in the database using the SCAN command."
   ]
  },
  {
   "cell_type": "code",
   "execution_count": null,
   "id": "54a0d6c5",
   "metadata": {},
   "outputs": [],
   "source": [
    "\n",
    "def scan(rd, match):\n",
    "    cursor, keys = 0, []\n",
    "    while True:\n",
    "        cursor, partial_keys = rd.scan(cursor=cursor, match=match)\n",
    "        keys.extend(partial_keys)\n",
    "        if cursor == 0:\n",
    "            break\n",
    "    return keys\n",
    "\n",
    "all_users = scan(rd, 'username:*')\n",
    "print(all_users)\n",
    "number_of_users = len(all_users)\n",
    "print(f\"Number of users in the database: {number_of_users}\")\n"
   ]
  },
  {
   "cell_type": "markdown",
   "id": "b4a24d69",
   "metadata": {},
   "source": [
    "### Analysis: Average Follows\n",
    "Calculate the average number of follows per user."
   ]
  },
  {
   "cell_type": "code",
   "execution_count": null,
   "id": "f9230208",
   "metadata": {},
   "outputs": [],
   "source": [
    "\n",
    "import numpy as np\n",
    "follows = scan(rd, 'user:*:follows')\n",
    "follows_num = [rd.scard(follow) for follow in follows]\n",
    "np.sum(follows_num) / number_of_users\n"
   ]
  },
  {
   "cell_type": "markdown",
   "id": "87cca212",
   "metadata": {},
   "source": [
    "### Analysis: Users Following 5-10 Users\n",
    "Identify how many users follow between 5 and 10 other users."
   ]
  },
  {
   "cell_type": "code",
   "execution_count": null,
   "id": "9a890f3f",
   "metadata": {},
   "outputs": [],
   "source": [
    "\n",
    "filtered_follows_num = np.array(follows_num)[(np.array(follows_num) >= 5) & (np.array(follows_num) <= 10)]\n",
    "filtered_follows_num.shape[0]\n"
   ]
  },
  {
   "cell_type": "markdown",
   "id": "55ca4581",
   "metadata": {},
   "source": [
    "### Analysis: Most Followers\n",
    "Determine which user account has the most followers."
   ]
  },
  {
   "cell_type": "code",
   "execution_count": null,
   "id": "09695195",
   "metadata": {},
   "outputs": [],
   "source": [
    "\n",
    "user_follower = scan(rd, 'user:*:followed_by')\n",
    "followers_num = [rd.scard(follower) for follower in user_follower]\n",
    "user_follower[np.argmax(np.array(followers_num))]\n"
   ]
  }
 ],
 "metadata": {
  "kernelspec": {
   "display_name": "datasci",
   "language": "python",
   "name": "python3"
  },
  "language_info": {
   "codemirror_mode": {
    "name": "ipython",
    "version": 3
   },
   "file_extension": ".py",
   "mimetype": "text/x-python",
   "name": "python",
   "nbconvert_exporter": "python",
   "pygments_lexer": "ipython3",
   "version": "3.9.18"
  }
 },
 "nbformat": 4,
 "nbformat_minor": 5
}
