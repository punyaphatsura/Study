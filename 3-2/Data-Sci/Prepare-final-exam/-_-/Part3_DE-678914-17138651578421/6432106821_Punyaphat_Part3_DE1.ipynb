{
 "cells": [
  {
   "cell_type": "markdown",
   "id": "a54db7de",
   "metadata": {},
   "source": [
    "# DE1 - Redis"
   ]
  },
  {
   "cell_type": "code",
   "execution_count": 3,
   "id": "e381deef",
   "metadata": {},
   "outputs": [],
   "source": [
    "import redis\n",
    "\n",
    "rd = redis.Redis(host='redis', charset=\"utf-8\", decode_responses=True)"
   ]
  },
  {
   "cell_type": "markdown",
   "id": "c850cc9b",
   "metadata": {},
   "source": [
    "## 1 (a) What is the title of movie id 52?"
   ]
  },
  {
   "cell_type": "code",
   "execution_count": 6,
   "id": "eef7bcbd",
   "metadata": {},
   "outputs": [
    {
     "data": {
      "text/plain": [
       "'Avengers: Endgame'"
      ]
     },
     "execution_count": 6,
     "metadata": {},
     "output_type": "execute_result"
    }
   ],
   "source": [
    "rd.hget('m:52',\"title\")"
   ]
  },
  {
   "cell_type": "markdown",
   "id": "3202ee49",
   "metadata": {},
   "source": [
    "## 1(b)\tHow many movies are there in 'Thriller' genre?"
   ]
  },
  {
   "cell_type": "code",
   "execution_count": 8,
   "id": "3e29d19a",
   "metadata": {},
   "outputs": [],
   "source": [
    "def scan(rd, match):\n",
    "    cursor, keys = 0, []\n",
    "    while True:\n",
    "        cursor, partial_keys = rd.scan(cursor=cursor, match=match)\n",
    "        keys.extend(partial_keys)\n",
    "        if cursor == 0:\n",
    "            break\n",
    "    return keys"
   ]
  },
  {
   "cell_type": "code",
   "execution_count": 12,
   "id": "62a2c5be-11a3-4fd2-b785-b0262cda650e",
   "metadata": {},
   "outputs": [
    {
     "data": {
      "text/plain": [
       "99"
      ]
     },
     "execution_count": 12,
     "metadata": {},
     "output_type": "execute_result"
    }
   ],
   "source": [
    "len(rd.smembers('g:Thriller'))"
   ]
  },
  {
   "cell_type": "markdown",
   "id": "e60be5af",
   "metadata": {},
   "source": [
    "## 1(c) How many genre are there in the database?"
   ]
  },
  {
   "cell_type": "code",
   "execution_count": 13,
   "id": "dfdf9fd8",
   "metadata": {},
   "outputs": [
    {
     "data": {
      "text/plain": [
       "21"
      ]
     },
     "execution_count": 13,
     "metadata": {},
     "output_type": "execute_result"
    }
   ],
   "source": [
    "len(scan(rd,'g:*'))"
   ]
  },
  {
   "cell_type": "markdown",
   "id": "c3fb3b3a",
   "metadata": {},
   "source": [
    "## 1(d)\tWhat is of the movie with the highest rating in ‘Action’ genre?"
   ]
  },
  {
   "cell_type": "code",
   "execution_count": 25,
   "id": "9d012924-68cf-4381-b747-59b500908388",
   "metadata": {},
   "outputs": [
    {
     "data": {
      "text/plain": [
       "['g:Drama',\n",
       " 'g:Fantasy',\n",
       " 'g:Film-Noir',\n",
       " 'g:History',\n",
       " 'g:Horror',\n",
       " 'g:Animation',\n",
       " 'g:Music',\n",
       " 'g:Western',\n",
       " 'g:Action',\n",
       " 'g:Mystery',\n",
       " 'g:War',\n",
       " 'g:Musical',\n",
       " 'g:Sci-Fi',\n",
       " 'g:Comedy',\n",
       " 'g:Adventure',\n",
       " 'g:Family',\n",
       " 'g:Crime',\n",
       " 'g:Biography',\n",
       " 'g:Romance',\n",
       " 'g:Thriller',\n",
       " 'g:Sport']"
      ]
     },
     "execution_count": 25,
     "metadata": {},
     "output_type": "execute_result"
    }
   ],
   "source": [
    "scan(rd,'g:*')"
   ]
  },
  {
   "cell_type": "code",
   "execution_count": 39,
   "id": "87484c1d",
   "metadata": {},
   "outputs": [
    {
     "data": {
      "text/plain": [
       "'9.0'"
      ]
     },
     "execution_count": 39,
     "metadata": {},
     "output_type": "execute_result"
    }
   ],
   "source": [
    "mx = max([rd.hget(m,\"rating\") for m in list(rd.smembers('g:Action'))])\n",
    "mx"
   ]
  }
 ],
 "metadata": {
  "kernelspec": {
   "display_name": "Python 3 (ipykernel)",
   "language": "python",
   "name": "python3"
  },
  "language_info": {
   "codemirror_mode": {
    "name": "ipython",
    "version": 3
   },
   "file_extension": ".py",
   "mimetype": "text/x-python",
   "name": "python",
   "nbconvert_exporter": "python",
   "pygments_lexer": "ipython3",
   "version": "3.9.18"
  }
 },
 "nbformat": 4,
 "nbformat_minor": 5
}
