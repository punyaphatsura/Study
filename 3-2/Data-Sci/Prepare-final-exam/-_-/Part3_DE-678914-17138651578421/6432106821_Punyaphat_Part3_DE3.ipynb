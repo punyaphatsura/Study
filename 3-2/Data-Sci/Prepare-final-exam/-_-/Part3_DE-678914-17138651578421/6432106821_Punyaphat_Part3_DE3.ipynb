{
 "cells": [
  {
   "cell_type": "code",
   "execution_count": 35,
   "id": "396f6bc9",
   "metadata": {},
   "outputs": [],
   "source": [
    "import findspark\n",
    "findspark.init()"
   ]
  },
  {
   "cell_type": "code",
   "execution_count": 36,
   "id": "15960389",
   "metadata": {},
   "outputs": [],
   "source": [
    "spark_url = 'local'"
   ]
  },
  {
   "cell_type": "code",
   "execution_count": 37,
   "id": "317aaac9",
   "metadata": {},
   "outputs": [],
   "source": [
    "from pyspark.sql import SparkSession\n",
    "from pyspark.sql.functions import col"
   ]
  },
  {
   "cell_type": "code",
   "execution_count": 38,
   "id": "fe429d9f",
   "metadata": {},
   "outputs": [],
   "source": [
    "spark = SparkSession.builder\\\n",
    "        .master(spark_url)\\\n",
    "        .appName('Spark AirBnB')\\\n",
    "        .getOrCreate()"
   ]
  },
  {
   "cell_type": "code",
   "execution_count": 39,
   "id": "086ca260",
   "metadata": {},
   "outputs": [
    {
     "data": {
      "text/html": [
       "\n",
       "            <div>\n",
       "                <p><b>SparkSession - in-memory</b></p>\n",
       "                \n",
       "        <div>\n",
       "            <p><b>SparkContext</b></p>\n",
       "\n",
       "            <p><a href=\"http://072c3dc3c26a:4040\">Spark UI</a></p>\n",
       "\n",
       "            <dl>\n",
       "              <dt>Version</dt>\n",
       "                <dd><code>v3.5.1</code></dd>\n",
       "              <dt>Master</dt>\n",
       "                <dd><code>local</code></dd>\n",
       "              <dt>AppName</dt>\n",
       "                <dd><code>Spark AirBnB</code></dd>\n",
       "            </dl>\n",
       "        </div>\n",
       "        \n",
       "            </div>\n",
       "        "
      ],
      "text/plain": [
       "<pyspark.sql.session.SparkSession at 0x7f9004410790>"
      ]
     },
     "execution_count": 39,
     "metadata": {},
     "output_type": "execute_result"
    }
   ],
   "source": [
    "sc = spark.sparkContext\n",
    "spark"
   ]
  },
  {
   "cell_type": "code",
   "execution_count": 40,
   "id": "7d296758-81fc-43ec-bc6e-c08ac98efb2d",
   "metadata": {},
   "outputs": [
    {
     "data": {
      "text/html": [
       "\n",
       "        <div>\n",
       "            <p><b>SparkContext</b></p>\n",
       "\n",
       "            <p><a href=\"http://072c3dc3c26a:4040\">Spark UI</a></p>\n",
       "\n",
       "            <dl>\n",
       "              <dt>Version</dt>\n",
       "                <dd><code>v3.5.1</code></dd>\n",
       "              <dt>Master</dt>\n",
       "                <dd><code>local</code></dd>\n",
       "              <dt>AppName</dt>\n",
       "                <dd><code>Spark AirBnB</code></dd>\n",
       "            </dl>\n",
       "        </div>\n",
       "        "
      ],
      "text/plain": [
       "<SparkContext master=local appName=Spark AirBnB>"
      ]
     },
     "execution_count": 40,
     "metadata": {},
     "output_type": "execute_result"
    }
   ],
   "source": [
    "sc"
   ]
  },
  {
   "cell_type": "code",
   "execution_count": 41,
   "id": "5fa248e9-0907-4128-bf20-5307877cfaa5",
   "metadata": {},
   "outputs": [],
   "source": [
    "path = 'airbnb_data.csv'\n",
    "df = spark.read.option(\"delimiter\", \",\").option(\"header\", True).csv(path)"
   ]
  },
  {
   "cell_type": "code",
   "execution_count": 42,
   "id": "d90a6fb4-7aae-4f01-b0aa-74a17854dd90",
   "metadata": {},
   "outputs": [
    {
     "name": "stdout",
     "output_type": "stream",
     "text": [
      "+-------+--------------------+-----------+---------+-------------------+------------------+---------------+-----------------+-----+-----------+--------------+-----------------+-----------------+----------------+\n",
      "|     id|                NAME|    host id|host name|neighbourhood group|     neighbourhood|      room type|Construction year|price|service fee|minimum nights|number of reviews|reviews per month|availability 365|\n",
      "+-------+--------------------+-----------+---------+-------------------+------------------+---------------+-----------------+-----+-----------+--------------+-----------------+-----------------+----------------+\n",
      "|1001254|Clean & quiet apt...|80014485718| Madaline|           Brooklyn|        Kensington|   Private room|             2020|  966|        193|            10|                9|             0.21|             286|\n",
      "|1002102|Skylit Midtown Ca...|52335172823|    Jenna|          Manhattan|           Midtown|Entire home/apt|             2007|  142|         28|            30|               45|             0.38|             228|\n",
      "|1003689|Entire Apt: Spaci...|92037596077|   Lyndon|          Manhattan|       East Harlem|Entire home/apt|             2009|  204|         41|            10|                9|              0.1|             289|\n",
      "|1004098|Large Cozy 1 BR A...|45498551794| Michelle|          Manhattan|       Murray Hill|Entire home/apt|             2013|  577|        115|             3|               74|             0.59|             374|\n",
      "|1004650|     BlissArtsSpace!|61300605564|  Alberta|           Brooklyn|Bedford-Stuyvesant|   Private room|             2015|   71|         14|            45|               49|              0.4|             224|\n",
      "|1005202|     BlissArtsSpace!|90821839709|     Emma|           Brooklyn|Bedford-Stuyvesant|   Private room|             2009| 1060|        212|            45|               49|              0.4|             219|\n",
      "|1005754|Large Furnished R...|79384379533|   Evelyn|          Manhattan|    Hell's Kitchen|   Private room|             2005| 1018|        204|             2|              430|             3.47|             180|\n",
      "|1006307|Cozy Clean Guest ...|75527839483|     Carl|          Manhattan|   Upper West Side|   Private room|             2015|  291|         58|             2|              118|             0.99|             375|\n",
      "|1006859|Cute & Cozy Lower...| 1280143094|  Miranda|          Manhattan|         Chinatown|Entire home/apt|             2004|  319|         64|             1|              160|             1.33|               1|\n",
      "|1007411|Beautiful 1br on ...|18824631834|     Alan|          Manhattan|   Upper West Side|Entire home/apt|             2008|  606|        121|             5|               53|             0.43|             163|\n",
      "|1008516|Lovely Room 1, Ga...|26802410424|    Darcy|            brookln|       South Slope|   Private room|             2010|  580|        116|             4|              167|             1.34|              47|\n",
      "|1009068|Wonderful Guest B...|88920244552| Leonardo|          Manhattan|   Upper West Side|   Private room|             2019|  149|         30|             2|              113|             0.91|              68|\n",
      "|1012934|Sweet and Spaciou...|86554611512|   Alissa|           Brooklyn|      Williamsburg|Entire home/apt|             2016|  477|         95|             3|                9|             0.07|             193|\n",
      "|1013487|CBG CtyBGd HelpsH...|53754237010|     Mary|           Brooklyn|        Park Slope|   Private room|             2013|  133|         27|             2|              130|             1.09|              54|\n",
      "|1014039|CBG Helps Haiti R...|87668933180|  William|           Brooklyn|        Park Slope|   Private room|             2017| 1050|        210|             1|               39|             0.37|               9|\n",
      "|1014591|CBG Helps Haiti R...|57827496420|Charlotte|           Brooklyn|        Park Slope|   Private room|             2005|  816|        163|             2|               71|             0.61|             344|\n",
      "|1015144|MAISON DES SIRENE...|48387947293|  Miranda|           Brooklyn|Bedford-Stuyvesant|Entire home/apt|             2006| 1175|        235|             2|               88|             0.73|             372|\n",
      "|1015696|Sunny Bedroom Acr...|81686279636|   Carlos|           Brooklyn|   Windsor Terrace|   Private room|             2021|  530|        106|             1|               19|             1.37|             344|\n",
      "|1016800|Midtown Pied-a-terre|19382804591|   Andrew|          Manhattan|    Hell's Kitchen|Entire home/apt|             2016|  209|         42|            10|               58|             0.49|             103|\n",
      "|1017353|SPACIOUS, LOVELY ...|51449163855|    Daryl|          Manhattan|            Inwood|   Private room|             2021|  432|         86|             3|              108|             1.11|             172|\n",
      "+-------+--------------------+-----------+---------+-------------------+------------------+---------------+-----------------+-----+-----------+--------------+-----------------+-----------------+----------------+\n",
      "only showing top 20 rows\n",
      "\n"
     ]
    }
   ],
   "source": [
    "df.show()"
   ]
  },
  {
   "cell_type": "code",
   "execution_count": 43,
   "id": "b06efb98-d0ef-4549-bca4-f3d57296af9d",
   "metadata": {},
   "outputs": [
    {
     "data": {
      "text/plain": [
       "['id',\n",
       " 'NAME',\n",
       " 'host id',\n",
       " 'host name',\n",
       " 'neighbourhood group',\n",
       " 'neighbourhood',\n",
       " 'room type',\n",
       " 'Construction year',\n",
       " 'price',\n",
       " 'service fee',\n",
       " 'minimum nights',\n",
       " 'number of reviews',\n",
       " 'reviews per month',\n",
       " 'availability 365']"
      ]
     },
     "execution_count": 43,
     "metadata": {},
     "output_type": "execute_result"
    }
   ],
   "source": [
    "df.columns"
   ]
  },
  {
   "cell_type": "markdown",
   "id": "f5a87235",
   "metadata": {},
   "source": [
    "# 3(a)\tHow many rooms are there in this dataset?"
   ]
  },
  {
   "cell_type": "code",
   "execution_count": 44,
   "id": "7e45d33f",
   "metadata": {},
   "outputs": [
    {
     "data": {
      "text/plain": [
       "85040"
      ]
     },
     "execution_count": 44,
     "metadata": {},
     "output_type": "execute_result"
    }
   ],
   "source": [
    "df.count()"
   ]
  },
  {
   "cell_type": "markdown",
   "id": "7738ccf5",
   "metadata": {},
   "source": [
    "# 3(b)\tCalculate average service_fee"
   ]
  },
  {
   "cell_type": "code",
   "execution_count": 47,
   "id": "91f40639",
   "metadata": {},
   "outputs": [
    {
     "data": {
      "text/plain": [
       "125.21674506114769"
      ]
     },
     "execution_count": 47,
     "metadata": {},
     "output_type": "execute_result"
    }
   ],
   "source": [
    "from pyspark.sql.functions import avg, min, max, countDistinct\n",
    "\n",
    "df['service fee']\n",
    "df.agg(avg(\"service fee\").alias(\"avg service fee\")).collect()[0][0]"
   ]
  },
  {
   "cell_type": "markdown",
   "id": "b3133868",
   "metadata": {},
   "source": [
    "# 3(c)\tHow many rooms are the most expensive price? "
   ]
  },
  {
   "cell_type": "code",
   "execution_count": 57,
   "id": "bff9fd26",
   "metadata": {},
   "outputs": [
    {
     "data": {
      "text/plain": [
       "55"
      ]
     },
     "execution_count": 57,
     "metadata": {},
     "output_type": "execute_result"
    }
   ],
   "source": [
    "max_price = df.agg(max(\"price\").alias(\"price\")).collect()[0][0]\n",
    "df.filter(df.price == max_price).count()"
   ]
  },
  {
   "cell_type": "markdown",
   "id": "93ce8485",
   "metadata": {},
   "source": [
    "# 3(d)\tWhich neighbourhood_group that has the most listings? "
   ]
  },
  {
   "cell_type": "code",
   "execution_count": 58,
   "id": "f3e3db96",
   "metadata": {},
   "outputs": [
    {
     "name": "stdout",
     "output_type": "stream",
     "text": [
      "+-------------------+-----+\n",
      "|neighbourhood group|count|\n",
      "+-------------------+-----+\n",
      "|             Queens|11318|\n",
      "|           Brooklyn|35289|\n",
      "|      Staten Island|  835|\n",
      "|            brookln|    1|\n",
      "|          Manhattan|35271|\n",
      "|              Bronx| 2326|\n",
      "+-------------------+-----+\n",
      "\n"
     ]
    }
   ],
   "source": [
    "df.groupby(\"neighbourhood group\").count().show()"
   ]
  }
 ],
 "metadata": {
  "kernelspec": {
   "display_name": "Python 3 (ipykernel)",
   "language": "python",
   "name": "python3"
  },
  "language_info": {
   "codemirror_mode": {
    "name": "ipython",
    "version": 3
   },
   "file_extension": ".py",
   "mimetype": "text/x-python",
   "name": "python",
   "nbconvert_exporter": "python",
   "pygments_lexer": "ipython3",
   "version": "3.9.18"
  }
 },
 "nbformat": 4,
 "nbformat_minor": 5
}
