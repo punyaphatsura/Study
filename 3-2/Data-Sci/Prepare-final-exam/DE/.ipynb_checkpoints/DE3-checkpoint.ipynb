{
 "cells": [
  {
   "cell_type": "code",
   "execution_count": 1,
   "metadata": {},
   "outputs": [],
   "source": [
    "import findspark\n",
    "findspark.init()"
   ]
  },
  {
   "cell_type": "code",
   "execution_count": 2,
   "metadata": {},
   "outputs": [],
   "source": [
    "spark_url = \"local\""
   ]
  },
  {
   "cell_type": "code",
   "execution_count": 3,
   "metadata": {},
   "outputs": [
    {
     "name": "stderr",
     "output_type": "stream",
     "text": [
      "Setting default log level to \"WARN\".\n",
      "To adjust logging level use sc.setLogLevel(newLevel). For SparkR, use setLogLevel(newLevel).\n",
      "24/04/22 14:20:23 WARN NativeCodeLoader: Unable to load native-hadoop library for your platform... using builtin-java classes where applicable\n"
     ]
    },
    {
     "name": "stderr",
     "output_type": "stream",
     "text": [
      "24/04/22 14:20:37 WARN GarbageCollectionMetrics: To enable non-built-in garbage collector(s) List(G1 Concurrent GC), users should configure it(them) to spark.eventLog.gcMetrics.youngGenerationGarbageCollectors or spark.eventLog.gcMetrics.oldGenerationGarbageCollectors\n"
     ]
    }
   ],
   "source": [
    "from pyspark.sql import SparkSession\n",
    "from pyspark.sql import SQLContext\n",
    "\n",
    "spark = SparkSession.builder.master(spark_url).appName(\"DE3\").config(\"spark.ui.port\", \"4040\").getOrCreate()"
   ]
  },
  {
   "cell_type": "code",
   "execution_count": 4,
   "metadata": {},
   "outputs": [],
   "source": [
    "sc = spark.sparkContext"
   ]
  },
  {
   "cell_type": "code",
   "execution_count": 5,
   "metadata": {},
   "outputs": [
    {
     "data": {
      "text/html": [
       "\n",
       "        <div>\n",
       "            <p><b>SparkContext</b></p>\n",
       "\n",
       "            <p><a href=\"http://titorsmp4tb32gb:4040\">Spark UI</a></p>\n",
       "\n",
       "            <dl>\n",
       "              <dt>Version</dt>\n",
       "                <dd><code>v3.5.1</code></dd>\n",
       "              <dt>Master</dt>\n",
       "                <dd><code>local</code></dd>\n",
       "              <dt>AppName</dt>\n",
       "                <dd><code>DE3</code></dd>\n",
       "            </dl>\n",
       "        </div>\n",
       "        "
      ],
      "text/plain": [
       "<SparkContext master=local appName=DE3>"
      ]
     },
     "execution_count": 5,
     "metadata": {},
     "output_type": "execute_result"
    }
   ],
   "source": [
    "sc"
   ]
  },
  {
   "cell_type": "markdown",
   "metadata": {},
   "source": [
    "# Import data and preprocess the data"
   ]
  },
  {
   "cell_type": "code",
   "execution_count": 16,
   "metadata": {},
   "outputs": [],
   "source": [
    "data_path = './appstore_games.csv'\n",
    "df = spark.read.csv(data_path, header=True, inferSchema=True)"
   ]
  },
  {
   "cell_type": "code",
   "execution_count": 17,
   "metadata": {},
   "outputs": [
    {
     "data": {
      "text/plain": [
       "17007"
      ]
     },
     "execution_count": 17,
     "metadata": {},
     "output_type": "execute_result"
    }
   ],
   "source": [
    "df.count()"
   ]
  },
  {
   "cell_type": "markdown",
   "metadata": {},
   "source": [
    "### Drop NA"
   ]
  },
  {
   "cell_type": "code",
   "execution_count": 18,
   "metadata": {},
   "outputs": [],
   "source": [
    "df = df.na.drop()"
   ]
  },
  {
   "cell_type": "code",
   "execution_count": 19,
   "metadata": {},
   "outputs": [
    {
     "data": {
      "text/plain": [
       "DataFrame[URL: string, ID: int, Name: string, Subtitle: string, Icon URL: string, Average User Rating: string, User Rating Count: string, Price: string, In-app Purchases: string, Description: string, Developer: string, Age Rating: string, Languages: string, Size: string, Primary Genre: string, Genres: string, Original Release Date: string, Current Version Release Date: string]"
      ]
     },
     "execution_count": 19,
     "metadata": {},
     "output_type": "execute_result"
    }
   ],
   "source": [
    "df"
   ]
  },
  {
   "cell_type": "markdown",
   "metadata": {},
   "source": [
    "### Change format"
   ]
  },
  {
   "cell_type": "code",
   "execution_count": 20,
   "metadata": {},
   "outputs": [],
   "source": [
    "df = df.withColumn(\"Average User Rating\", df[\"Average User Rating\"].cast(\"double\"))\n",
    "df = df.withColumn(\"Price\", df[\"Price\"].cast(\"double\"))\n",
    "\n",
    "df = df.withColumn(\"User Rating Count\", df[\"User Rating Count\"].cast(\"int\"))\n",
    "df = df.withColumn(\"Size\", df[\"Size\"].cast(\"int\"))"
   ]
  },
  {
   "cell_type": "code",
   "execution_count": 21,
   "metadata": {},
   "outputs": [
    {
     "data": {
      "text/plain": [
       "DataFrame[URL: string, ID: int, Name: string, Subtitle: string, Icon URL: string, Average User Rating: double, User Rating Count: int, Price: double, In-app Purchases: string, Description: string, Developer: string, Age Rating: string, Languages: string, Size: int, Primary Genre: string, Genres: string, Original Release Date: string, Current Version Release Date: string]"
      ]
     },
     "execution_count": 21,
     "metadata": {},
     "output_type": "execute_result"
    }
   ],
   "source": [
    "df"
   ]
  },
  {
   "cell_type": "markdown",
   "metadata": {},
   "source": [
    "## How many row and column"
   ]
  },
  {
   "cell_type": "code",
   "execution_count": 32,
   "metadata": {},
   "outputs": [
    {
     "name": "stdout",
     "output_type": "stream",
     "text": [
      "Row: 1937\n",
      "Column: 18\n"
     ]
    }
   ],
   "source": [
    "print(f\"Row: {df.count()}\")\n",
    "print(f\"Column: {len(df.columns)}\")"
   ]
  },
  {
   "cell_type": "markdown",
   "metadata": {},
   "source": [
    "## Preview top 6 rows"
   ]
  },
  {
   "cell_type": "code",
   "execution_count": 33,
   "metadata": {},
   "outputs": [
    {
     "name": "stdout",
     "output_type": "stream",
     "text": [
      "+--------------------+---------+--------------------+--------------------+--------------------+-------------------+-----------------+-----+--------------------+--------------------+--------------------+--------------------+--------------------+--------+--------------------+--------------------+---------------------+----------------------------+\n",
      "|                 URL|       ID|                Name|            Subtitle|            Icon URL|Average User Rating|User Rating Count|Price|    In-app Purchases|         Description|           Developer|          Age Rating|           Languages|    Size|       Primary Genre|              Genres|Original Release Date|Current Version Release Date|\n",
      "+--------------------+---------+--------------------+--------------------+--------------------+-------------------+-----------------+-----+--------------------+--------------------+--------------------+--------------------+--------------------+--------+--------------------+--------------------+---------------------+----------------------------+\n",
      "|https://apps.appl...|286210009|Sudoku - Classic ...|Original brain tr...|https://is1-ssl.m...|                3.0|               47|  0.0|                1.99|\"Sudoku will teas...|     OutOfTheBit Ltd|                  4+|                  EN|48672768|               Games|Games, Entertainm...|           30/07/2008|                  29/04/2019|\n",
      "|https://apps.appl...|290614255|Cool Sudoku, Jigs...|Sudoku, Jigsaw, K...|https://is5-ssl.m...|                3.5|              357|  0.0|    0.99, 0.99, 0.99|You can now play ...|Splash Software Ltd.|                  4+|                  EN|52236288|               Games|Games, Strategy, ...|           24/09/2008|                  26/04/2019|\n",
      "|https://apps.appl...|306165224|        Gun Runner +|      A trading game|https://is5-ssl.m...|                2.5|             5462|  0.0|    0.99, 0.99, 0.99|\"\"\"Gun Runner + i...| sell high. You m...| the cost of borr...| that\\u2019s the ...|    NULL|                  9+|                  EN|             14125056|                       Games|\n",
      "|https://apps.appl...|311456818|UniWar: Multiplay...|Turn-Based Strate...|https://is4-ssl.m...|                3.5|            14073|  0.0|9.99, 2.99, 4.99,...|\"Players take tur...| UniWar will sati...|          SH Limited|                  9+|    NULL|           115074048|               Games| Games, Entertainm...|                  14/04/2009|\n",
      "|https://apps.appl...|316491616|        TowerMadness|Classic Defense S...|https://is5-ssl.m...|                4.0|            42389| 2.99|1.99, 1.99, 1.99,...|\"Evil aliens are ...| time-sucking fun...| but TowerMadness...| Wired\\n\\n\"\"If yo...|    NULL| MacLife\\n\\n\"\"It ...| PocketGamer\\n\\n\\...|  Best App Ever Aw...|         Best Strategy Ga...|\n",
      "|https://apps.appl...|319305999|               Chess|Play Chess and So...|https://is5-ssl.m...|                4.5|            14864|  0.0|1.99, 7.99, 29.99...|\"Chess is #1 popu...| useful in the co...| are to be acquir...| so as to become ...|    NULL|                  15| 30 or 60 minutes...|          Vintolo Ltd|                          4+|\n",
      "+--------------------+---------+--------------------+--------------------+--------------------+-------------------+-----------------+-----+--------------------+--------------------+--------------------+--------------------+--------------------+--------+--------------------+--------------------+---------------------+----------------------------+\n",
      "only showing top 6 rows\n",
      "\n"
     ]
    }
   ],
   "source": [
    "df.show(6)"
   ]
  },
  {
   "cell_type": "markdown",
   "metadata": {},
   "source": [
    "## What is the average size of all games"
   ]
  },
  {
   "cell_type": "code",
   "execution_count": 34,
   "metadata": {},
   "outputs": [
    {
     "name": "stdout",
     "output_type": "stream",
     "text": [
      "+---------------------+\n",
      "|Average Size of Games|\n",
      "+---------------------+\n",
      "| 2.1334109757801765E8|\n",
      "+---------------------+\n",
      "\n"
     ]
    }
   ],
   "source": [
    "from pyspark.sql.functions import avg\n",
    "\n",
    "avg_size_of_games = df.agg(avg(\"Size\").alias(\"Average Size of Games\"))\n",
    "\n",
    "avg_size_of_games.show()"
   ]
  },
  {
   "cell_type": "markdown",
   "metadata": {},
   "source": [
    "## How much does it cost for the game with the most expensive price"
   ]
  },
  {
   "cell_type": "code",
   "execution_count": 35,
   "metadata": {},
   "outputs": [
    {
     "name": "stdout",
     "output_type": "stream",
     "text": [
      "+--------------------+\n",
      "|Most expensive price|\n",
      "+--------------------+\n",
      "|              1639.0|\n",
      "+--------------------+\n",
      "\n"
     ]
    }
   ],
   "source": [
    "from pyspark.sql.functions import max\n",
    "\n",
    "most_expensive_price = df.agg(max(\"Price\").alias(\"Most expensive price\"))\n",
    "\n",
    "most_expensive_price.show()"
   ]
  },
  {
   "cell_type": "markdown",
   "metadata": {},
   "source": [
    "## Based on the average of ‘Average User Rating’, is it true that paid games score much better than free games by large margin (> 1)?"
   ]
  },
  {
   "cell_type": "code",
   "execution_count": 44,
   "metadata": {},
   "outputs": [
    {
     "name": "stdout",
     "output_type": "stream",
     "text": [
      "4.229007633587786\n",
      "4.3129855715871255\n",
      "False\n"
     ]
    }
   ],
   "source": [
    "from pyspark.sql.functions import avg, col\n",
    "\n",
    "avg_user_rating_free = df.filter(df.Price == 0.0).agg(avg(\"Average User Rating\").alias(\"Average User Rating\"))\n",
    "avg_user_rating_paid = df.filter(df.Price > 0).agg(avg(\"Average User Rating\").alias(\"Average User Rating\"))\n",
    "\n",
    "avg_user_rating_paid = avg_user_rating_paid.first()['Average User Rating']\n",
    "avg_user_rating_free = avg_user_rating_free.first()['Average User Rating']\n",
    "\n",
    "print(f\"{avg_user_rating_paid}\")\n",
    "print(f\"{avg_user_rating_free}\")\n",
    "print(avg_user_rating_paid > avg_user_rating_free + 1)"
   ]
  },
  {
   "cell_type": "markdown",
   "metadata": {},
   "source": [
    "## Based on the average of ‘User Rating Count’, is it true that free games have more rating counts than paid games by large margin (> 1000)?"
   ]
  },
  {
   "cell_type": "code",
   "execution_count": 45,
   "metadata": {},
   "outputs": [
    {
     "name": "stdout",
     "output_type": "stream",
     "text": [
      "5023.22962962963\n",
      "9496.05049944506\n",
      "True\n"
     ]
    }
   ],
   "source": [
    "from pyspark.sql.functions import avg, col\n",
    "\n",
    "avg_user_rating_count_free = df.filter(df.Price == 0.0).agg(avg(\"User Rating Count\").alias(\"User Rating Count\"))\n",
    "avg_user_rating_count_paid = df.filter(df.Price > 0).agg(avg(\"User Rating Count\").alias(\"User Rating Count\"))\n",
    "\n",
    "avg_user_rating_count_paid = avg_user_rating_count_paid.first()['User Rating Count']\n",
    "avg_user_rating_count_free = avg_user_rating_count_free.first()['User Rating Count']\n",
    "\n",
    "print(f\"{avg_user_rating_count_paid}\")\n",
    "print(f\"{avg_user_rating_count_free}\")\n",
    "print(avg_user_rating_count_free > avg_user_rating_count_paid + 1000)"
   ]
  }
 ],
 "metadata": {
  "kernelspec": {
   "display_name": "datasci",
   "language": "python",
   "name": "python3"
  },
  "language_info": {
   "codemirror_mode": {
    "name": "ipython",
    "version": 3
   },
   "file_extension": ".py",
   "mimetype": "text/x-python",
   "name": "python",
   "nbconvert_exporter": "python",
   "pygments_lexer": "ipython3",
   "version": "3.9.18"
  }
 },
 "nbformat": 4,
 "nbformat_minor": 2
}
