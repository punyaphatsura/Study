{
 "cells": [
  {
   "cell_type": "markdown",
   "metadata": {},
   "source": [
    "# **Activity 1**"
   ]
  },
  {
   "cell_type": "markdown",
   "metadata": {},
   "source": [
    "#### 1. Write a simple python program to use the word from the dictionary to find the original value of '**d54cc1fe76f5186380a0939d2fc1723c44e8a5f7**'. Note that you might want to include substitution in your code (lowercase, uppercase, number for letter [‘o’ => 0 , ‘l’ => 1, ‘i’ => 1]). Hint: Here is a snippet for sha1 and md5 functions.\n"
   ]
  },
  {
   "cell_type": "code",
   "execution_count": 23,
   "metadata": {},
   "outputs": [],
   "source": [
    "import hashlib\n",
    "import time\n",
    "import requests\n",
    "from tqdm import tqdm\n",
    "import sys"
   ]
  },
  {
   "cell_type": "code",
   "execution_count": 24,
   "metadata": {},
   "outputs": [],
   "source": [
    "def is_password_match(pw:str, hashed_value:str):\n",
    "    if hashed_value == hashlib.sha1(pw.encode()).hexdigest():\n",
    "        print('Password is',pw)\n",
    "        print('Hash function: SHA1')\n",
    "        return True\n",
    "    elif hashed_value == hashlib.md5(pw.encode()).hexdigest():\n",
    "        print('Password is',pw)\n",
    "        print('Hash function: MD5')\n",
    "        return True\n",
    "    else:\n",
    "        return False"
   ]
  },
  {
   "cell_type": "code",
   "execution_count": 25,
   "metadata": {},
   "outputs": [],
   "source": [
    "letter_2_number = {'o':0,'l':1,'i':1}\n",
    "encode_value = 'd54cc1fe76f5186380a0939d2fc1723c44e8a5f7'\n",
    "\n",
    "found = False\n",
    "\n",
    "def string_permutations(string:str):\n",
    "    permu_at(string.lower(),0)\n",
    "\n",
    "def permu_at(string:str, idx:int):\n",
    "    global found\n",
    "    if found:\n",
    "        return True\n",
    "    if idx < len(string):\n",
    "        if not (string[idx] in letter_2_number and permu_at(string[:idx] + str(letter_2_number[string[idx]]) + string[idx+1:], idx+1)):\n",
    "            if not permu_at(string[:idx] + string[idx].upper() + string[idx+1:],idx+1):\n",
    "                return permu_at(string, idx+1)\n",
    "        return True\n",
    "    else:\n",
    "        if is_password_match(string, encode_value):\n",
    "            found = True\n",
    "            return True\n",
    "        return False"
   ]
  },
  {
   "cell_type": "code",
   "execution_count": 26,
   "metadata": {},
   "outputs": [],
   "source": [
    "text_list_url = \"https://raw.githubusercontent.com/danielmiessler/SecLists/master/Passwords/Common-Credentials/10k-most-common.txt\"\n",
    "\n",
    "response = requests.get(text_list_url)\n",
    "password_list = response.text.splitlines()"
   ]
  },
  {
   "cell_type": "code",
   "execution_count": 27,
   "metadata": {},
   "outputs": [
    {
     "name": "stderr",
     "output_type": "stream",
     "text": [
      " 12%|█▏        | 1158/10000 [00:00<00:02, 3994.34it/s]"
     ]
    },
    {
     "name": "stdout",
     "output_type": "stream",
     "text": [
      "Password is ThaiLanD\n",
      "Hash function: SHA1\n"
     ]
    },
    {
     "name": "stderr",
     "output_type": "stream",
     "text": [
      "\n"
     ]
    }
   ],
   "source": [
    "for password in tqdm(password_list):\n",
    "    if found:\n",
    "        break\n",
    "    string_permutations(password)"
   ]
  },
  {
   "cell_type": "markdown",
   "metadata": {},
   "source": [
    "#### 2. For the given dictionary, create a rainbow table (including the substituted strings) using the sha1 algorithm. Measure the time for creating such a table. Measure the size of the table."
   ]
  },
  {
   "cell_type": "code",
   "execution_count": 28,
   "metadata": {},
   "outputs": [],
   "source": [
    "sha1_rainbow_table = {}\n",
    "def permu(word:str, idx:int, length:int):\n",
    "    if idx == length:\n",
    "        sha1_hash = hashlib.sha1(word.encode()).hexdigest()\n",
    "        sha1_rainbow_table[sha1_hash] = word\n",
    "        return\n",
    "    \n",
    "    low = (word[:idx] + word[idx].lower() + word[idx+1:])\n",
    "    permu(low, idx+1, length)\n",
    "    \n",
    "    high = word[:idx] + word[idx].upper() + word[idx+1:]\n",
    "    permu(high, idx+1, length)\n",
    "    \n",
    "    if word[idx] in letter_2_number:\n",
    "        c = word[:idx] + str(letter_2_number[word[idx]]) + word[idx+1:]\n",
    "        permu(c, idx+1, length)"
   ]
  },
  {
   "cell_type": "code",
   "execution_count": 29,
   "metadata": {},
   "outputs": [
    {
     "name": "stdout",
     "output_type": "stream",
     "text": [
      "Time 1 : 4.194338798522949\n",
      "Time 2 : 4.2050511837005615\n",
      "Time 3 : 4.174466133117676\n",
      "Time 4 : 4.280228137969971\n",
      "Time 5 : 4.2086639404296875\n",
      "Time 6 : 4.225312948226929\n",
      "Time 7 : 4.24209189414978\n",
      "Time 8 : 4.2835469245910645\n",
      "Time 9 : 4.228966951370239\n",
      "Time 10 : 4.246884822845459\n",
      "avg geometric menn time usage: 4.3290 seconds\n",
      "table size: 80.0001 MB\n",
      "rows num: 2650956\n"
     ]
    }
   ],
   "source": [
    "letter_2_number = {'o':0,'l':1,'i':1}\n",
    "row_num = 0\n",
    "\n",
    "times = 10\n",
    "sum_time = 1\n",
    "\n",
    "for i in range(times):\n",
    "    sha1_rainbow_table = {}\n",
    "\n",
    "    start_time = time.time()\n",
    "\n",
    "    for word in password_list:\n",
    "        permu(word,0,len(word))\n",
    "                \n",
    "\n",
    "    end_time = time.time()\n",
    "    print('Time',i+1,':',end_time - start_time)\n",
    "    sum_time += end_time - start_time\n",
    "\n",
    "table_size = sys.getsizeof(sha1_rainbow_table)\n",
    "avg_time = sum_time / times\n",
    "\n",
    "print('avg geometric menn time usage: %.4f seconds' % avg_time)\n",
    "print('table size: %.4f MB' % (table_size / (1024 * 1024)))\n",
    "print('rows num: %d' % (len(sha1_rainbow_table)))"
   ]
  },
  {
   "cell_type": "markdown",
   "metadata": {},
   "source": [
    "#### 3. Based on your code, how long does it take to perform a hash (sha1) on a password string? Please analyze the performance of your system"
   ]
  },
  {
   "cell_type": "code",
   "execution_count": 30,
   "metadata": {},
   "outputs": [
    {
     "name": "stdout",
     "output_type": "stream",
     "text": [
      "performance: 612377.7895 rows per second\n",
      "seconds per row: 0.0000016330\n"
     ]
    }
   ],
   "source": [
    "rps = len(sha1_rainbow_table) / avg_time\n",
    "spr = avg_time / len(sha1_rainbow_table)\n",
    "\n",
    "print('performance: %.4f rows per second' % (rps))\n",
    "print('seconds per row: %.10f' % (spr))"
   ]
  },
  {
   "cell_type": "markdown",
   "metadata": {},
   "source": [
    "#### 4. If you were a hacker obtaining a password file from a system, estimate how long it takes to break a password with brute force using your computer. (Please based the answer on your measurement from exercise #3.)"
   ]
  },
  {
   "cell_type": "code",
   "execution_count": 31,
   "metadata": {},
   "outputs": [
    {
     "name": "stdout",
     "output_type": "stream",
     "text": [
      "brute force time: 356544782.2041 seconds or 11.3060 years\n",
      "\n"
     ]
    }
   ],
   "source": [
    "charset_num = 26 + 26 + 10\n",
    "password_length = 8\n",
    "\n",
    "print('brute force time: %.4f seconds' % (pow(charset_num,password_length) * spr),'or %.4f years' % (pow(charset_num,password_length) * spr / (60 * 60 * 24 * 365)))\n",
    "print()"
   ]
  },
  {
   "cell_type": "markdown",
   "metadata": {},
   "source": [
    "#### 5. Base on your analysis in exercise #4, what should be the proper length of a password. (e.g. Take at least a year to break)."
   ]
  },
  {
   "cell_type": "code",
   "execution_count": 32,
   "metadata": {},
   "outputs": [
    {
     "name": "stdout",
     "output_type": "stream",
     "text": [
      "password length: 7\n",
      "brute force time: 5750722.2936 seconds or 0.1824 years\n",
      "password length: 8\n",
      "brute force time: 356544782.2041 seconds or 11.3060 years\n",
      "password length: 9\n",
      "brute force time: 22105776496.6534 seconds or 700.9696 years\n"
     ]
    }
   ],
   "source": [
    "for i in range(1,21):\n",
    "    if((pow(charset_num, i) * spr / (60 * 60 * 24 * 365)) >= 1):\n",
    "        \n",
    "        print('password length: %d' % (i-1))\n",
    "        print('brute force time: %.4f seconds' % (pow(charset_num, i-1) * spr),'or %.4f years' % (pow(charset_num, i-1) * spr / (60 * 60 * 24 * 365)))\n",
    "        \n",
    "        print('password length: %d' % i)\n",
    "        print('brute force time: %.4f seconds' % (pow(charset_num, i) * spr),'or %.4f years' % (pow(charset_num, i) * spr / (60 * 60 * 24 * 365)))\n",
    "        \n",
    "        print('password length: %d' % (i+1))\n",
    "        print('brute force time: %.4f seconds' % (pow(charset_num, i+1) * spr),'or %.4f years' % (pow(charset_num, i+1) * spr / (60 * 60 * 24 * 365)))\n",
    "        break"
   ]
  },
  {
   "cell_type": "markdown",
   "metadata": {},
   "source": [
    "#### 6. What is salt? Please explain its role in protecting a password hash."
   ]
  },
  {
   "cell_type": "markdown",
   "metadata": {},
   "source": [
    "####  **Salt** คือข้อมูลแบบสุ่มที่ถูกเพิ่มเข้าไปในรหัสผ่านก่อนการแฮชเพื่อเพิ่มความปลอดภัยในการเก็บรักษารหัสผ่าน โดยการใช้ salt ช่วยป้องกันการโจมตีแบบ Rainbow Table และทำให้แฮชของรหัสผ่านเดียวกันแตกต่างกัน แม้ว่าผู้ใช้หลายคนจะใช้รหัสผ่านเดียวกัน เมื่อผู้ใช้สร้างบัญชี ระบบจะสร้าง salt แบบสุ่มรวมกับรหัสผ่าน จากนั้นแฮชและเก็บค่าแฮชและ salt ไว้ในฐานข้อมูล เมื่อล็อกอิน ระบบจะดึงค่า salt และแฮชรหัสผ่านใหม่เพื่อตรวจสอบความถูกต้องว่าตรงกับค่าที่เก็บไว้หรือไม่ วิธีนี้ช่วยเพิ่มความยากในการคาดเดารหัสผ่านและทำให้ระบบมีความปลอดภัยมากขึ้น"
   ]
  }
 ],
 "metadata": {
  "kernelspec": {
   "display_name": "datasci",
   "language": "python",
   "name": "python3"
  },
  "language_info": {
   "codemirror_mode": {
    "name": "ipython",
    "version": 3
   },
   "file_extension": ".py",
   "mimetype": "text/x-python",
   "name": "python",
   "nbconvert_exporter": "python",
   "pygments_lexer": "ipython3",
   "version": "3.9.18"
  }
 },
 "nbformat": 4,
 "nbformat_minor": 2
}
